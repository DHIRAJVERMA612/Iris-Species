{
 "cells": [
  {
   "cell_type": "markdown",
   "metadata": {},
   "source": [
    "<html>\n",
    "<h1 style=\"text-align:center;color:red;background-color:powderblue;font-size:500%\">Iris Species</h1>\n",
    "</html>"
   ]
  },
  {
   "cell_type": "markdown",
   "metadata": {
    "execution": {
     "iopub.execute_input": "2022-08-10T11:13:54.041851Z",
     "iopub.status.busy": "2022-08-10T11:13:54.041042Z",
     "iopub.status.idle": "2022-08-10T11:13:54.048473Z",
     "shell.execute_reply": "2022-08-10T11:13:54.047291Z",
     "shell.execute_reply.started": "2022-08-10T11:13:54.041808Z"
    }
   },
   "source": [
    "<html>\n",
    "<img src=\"https://lh4.googleusercontent.com/mJWTmlK-DKt2Bm8jIrzbdX50Slg-DHF91bE89MveR6M71KHXpjAhYwfFXn_IJoNhZ6M=w2400\" alt=\"Computer man\" style=\"width:800px;height:450px;\"/>\n",
    "</html>"
   ]
  },
  {
   "cell_type": "markdown",
   "metadata": {},
   "source": [
    "<html>\n",
    "<h1 style=\"text-align:left;color:red;font-size:200%\">Table of Contents : </h1>\n",
    "</html>\n",
    "\n",
    "  * [Data Manipulation](#sec1)\n",
    "       * [Importing Dataset](#sec1.1)\n",
    "       * [Dataset View](#sec1.2)\n",
    "       * [Dataset Information](#sec1.3)\n",
    "       * [Summary Statistics](#sec1.4)\n",
    "       * [Checking for unique values in integer type attribute](#sec1.5)\n",
    "       * [Checking for missing values in each column](#sec1.6)\n",
    "       * [percentage of missing values in each column](#sec1.7)\n",
    "       \n",
    "  * [Data Visualization](#sec2)\n",
    "       * [Missing Value Plot](#sec2.1)\n",
    "       * [Density Plot of Continuous Variables](#sec2.2)\n",
    "       * [Box plot for each continuous variavles](#sec2.3)\n",
    "       * [Heatmap](#sec2.4)\n",
    "       * [Density plot of each continuous variable after removing outliers](#sec2.5)\n",
    "       * [Box plot of each continuous variable after removing outliers](#sec2.6)\n",
    "       * [Bar Plot of each variable show label distribution of target variable](#sec2.7)\n",
    "       * [Pie chart of target Variable](#sec2.8)\n",
    "       * [Count Plot of target variable](#sec2.9)\n",
    "       \n",
    "  * [Feature Selection](#sec3)\n",
    "       * [Feature Importance Graph](#sec3.1)\n",
    "       \n",
    "  * [Splitting our dataset into train and test set](#sec4)\n",
    "  \n",
    "  * [Feature Scaling](#sec5)\n",
    "       \n",
    "  * [Modeling](#sec6)\n",
    "       * [Decision Tree](#sec6.1)\n",
    "       * [KNN](#sec6.2)\n",
    "       * [Naive Bayes](#sec6.3)\n",
    "       * [Support Vector Classifier](#sec6.4)\n",
    "       * [Random Forest](#sec6.5)\n",
    "       * [Xb-Boost](#sec6.6)\n",
    "       \n",
    "  * [Model Comparison](#sec7)\n",
    "       * [Maximum Accuracies in each Column ](#sec7.1)\n",
    "       * [Minimum Accuracies in each Column ](#sec7.2)"
   ]
  },
  {
   "cell_type": "markdown",
   "metadata": {},
   "source": [
    "## Data Manipulation <a class=\"anchor\" id=\"sec1\"></a>"
   ]
  },
  {
   "cell_type": "markdown",
   "metadata": {},
   "source": [
    "### Importing libraries "
   ]
  },
  {
   "cell_type": "markdown",
   "metadata": {},
   "source": [
    "<html>\n",
    "<img src=\"https://newrelic.com/sites/default/files/wp_blog_inline_files/shutterstock_1352528811.jpg\" alt=\"Computer man\" style=\"width:150px;height:100px;\"/>\n",
    "</html>"
   ]
  },
  {
   "cell_type": "code",
   "execution_count": 1,
   "metadata": {
    "execution": {
     "iopub.execute_input": "2022-08-16T18:02:09.241407Z",
     "iopub.status.busy": "2022-08-16T18:02:09.240116Z",
     "iopub.status.idle": "2022-08-16T18:02:10.349208Z",
     "shell.execute_reply": "2022-08-16T18:02:10.348064Z",
     "shell.execute_reply.started": "2022-08-16T18:02:09.241270Z"
    }
   },
   "outputs": [],
   "source": [
    "import numpy as np\n",
    "import matplotlib.pyplot as plt\n",
    "import pandas as pd\n",
    "import seaborn as sns\n",
    "#imported different libraries where we will be working with."
   ]
  },
  {
   "cell_type": "code",
   "execution_count": 2,
   "metadata": {
    "execution": {
     "iopub.execute_input": "2022-08-16T18:02:11.686877Z",
     "iopub.status.busy": "2022-08-16T18:02:11.686272Z",
     "iopub.status.idle": "2022-08-16T18:02:11.692992Z",
     "shell.execute_reply": "2022-08-16T18:02:11.691740Z",
     "shell.execute_reply.started": "2022-08-16T18:02:11.686790Z"
    }
   },
   "outputs": [],
   "source": [
    "pd.set_option(\"display.max_rows\", 100, \"display.max_columns\", 100)"
   ]
  },
  {
   "cell_type": "markdown",
   "metadata": {},
   "source": [
    "### Importing dataset <a class=\"anchor\" id=\"sec1.1\"></a>"
   ]
  },
  {
   "cell_type": "code",
   "execution_count": 3,
   "metadata": {
    "execution": {
     "iopub.execute_input": "2022-08-16T18:02:12.476891Z",
     "iopub.status.busy": "2022-08-16T18:02:12.476168Z",
     "iopub.status.idle": "2022-08-16T18:02:12.498039Z",
     "shell.execute_reply": "2022-08-16T18:02:12.496854Z",
     "shell.execute_reply.started": "2022-08-16T18:02:12.476843Z"
    }
   },
   "outputs": [],
   "source": [
    "df=pd.read_csv('Iris.csv')"
   ]
  },
  {
   "cell_type": "markdown",
   "metadata": {},
   "source": [
    "### Dataset View <a class=\"anchor\" id=\"sec1.2\"></a>"
   ]
  },
  {
   "cell_type": "code",
   "execution_count": 4,
   "metadata": {
    "execution": {
     "iopub.execute_input": "2022-08-16T18:02:13.216015Z",
     "iopub.status.busy": "2022-08-16T18:02:13.214821Z",
     "iopub.status.idle": "2022-08-16T18:02:13.259494Z",
     "shell.execute_reply": "2022-08-16T18:02:13.258624Z",
     "shell.execute_reply.started": "2022-08-16T18:02:13.215962Z"
    }
   },
   "outputs": [
    {
     "data": {
      "text/html": [
       "<div>\n",
       "<style scoped>\n",
       "    .dataframe tbody tr th:only-of-type {\n",
       "        vertical-align: middle;\n",
       "    }\n",
       "\n",
       "    .dataframe tbody tr th {\n",
       "        vertical-align: top;\n",
       "    }\n",
       "\n",
       "    .dataframe thead th {\n",
       "        text-align: right;\n",
       "    }\n",
       "</style>\n",
       "<table border=\"1\" class=\"dataframe\">\n",
       "  <thead>\n",
       "    <tr style=\"text-align: right;\">\n",
       "      <th></th>\n",
       "      <th>Id</th>\n",
       "      <th>SepalLengthCm</th>\n",
       "      <th>SepalWidthCm</th>\n",
       "      <th>PetalLengthCm</th>\n",
       "      <th>PetalWidthCm</th>\n",
       "      <th>Species</th>\n",
       "    </tr>\n",
       "  </thead>\n",
       "  <tbody>\n",
       "    <tr>\n",
       "      <th>0</th>\n",
       "      <td>1</td>\n",
       "      <td>5.1</td>\n",
       "      <td>3.5</td>\n",
       "      <td>1.4</td>\n",
       "      <td>0.2</td>\n",
       "      <td>Iris-setosa</td>\n",
       "    </tr>\n",
       "    <tr>\n",
       "      <th>1</th>\n",
       "      <td>2</td>\n",
       "      <td>4.9</td>\n",
       "      <td>3.0</td>\n",
       "      <td>1.4</td>\n",
       "      <td>0.2</td>\n",
       "      <td>Iris-setosa</td>\n",
       "    </tr>\n",
       "    <tr>\n",
       "      <th>2</th>\n",
       "      <td>3</td>\n",
       "      <td>4.7</td>\n",
       "      <td>3.2</td>\n",
       "      <td>1.3</td>\n",
       "      <td>0.2</td>\n",
       "      <td>Iris-setosa</td>\n",
       "    </tr>\n",
       "    <tr>\n",
       "      <th>3</th>\n",
       "      <td>4</td>\n",
       "      <td>4.6</td>\n",
       "      <td>3.1</td>\n",
       "      <td>1.5</td>\n",
       "      <td>0.2</td>\n",
       "      <td>Iris-setosa</td>\n",
       "    </tr>\n",
       "    <tr>\n",
       "      <th>4</th>\n",
       "      <td>5</td>\n",
       "      <td>5.0</td>\n",
       "      <td>3.6</td>\n",
       "      <td>1.4</td>\n",
       "      <td>0.2</td>\n",
       "      <td>Iris-setosa</td>\n",
       "    </tr>\n",
       "    <tr>\n",
       "      <th>5</th>\n",
       "      <td>6</td>\n",
       "      <td>5.4</td>\n",
       "      <td>3.9</td>\n",
       "      <td>1.7</td>\n",
       "      <td>0.4</td>\n",
       "      <td>Iris-setosa</td>\n",
       "    </tr>\n",
       "    <tr>\n",
       "      <th>6</th>\n",
       "      <td>7</td>\n",
       "      <td>4.6</td>\n",
       "      <td>3.4</td>\n",
       "      <td>1.4</td>\n",
       "      <td>0.3</td>\n",
       "      <td>Iris-setosa</td>\n",
       "    </tr>\n",
       "    <tr>\n",
       "      <th>7</th>\n",
       "      <td>8</td>\n",
       "      <td>5.0</td>\n",
       "      <td>3.4</td>\n",
       "      <td>1.5</td>\n",
       "      <td>0.2</td>\n",
       "      <td>Iris-setosa</td>\n",
       "    </tr>\n",
       "    <tr>\n",
       "      <th>8</th>\n",
       "      <td>9</td>\n",
       "      <td>4.4</td>\n",
       "      <td>2.9</td>\n",
       "      <td>1.4</td>\n",
       "      <td>0.2</td>\n",
       "      <td>Iris-setosa</td>\n",
       "    </tr>\n",
       "    <tr>\n",
       "      <th>9</th>\n",
       "      <td>10</td>\n",
       "      <td>4.9</td>\n",
       "      <td>3.1</td>\n",
       "      <td>1.5</td>\n",
       "      <td>0.1</td>\n",
       "      <td>Iris-setosa</td>\n",
       "    </tr>\n",
       "  </tbody>\n",
       "</table>\n",
       "</div>"
      ],
      "text/plain": [
       "   Id  SepalLengthCm  SepalWidthCm  PetalLengthCm  PetalWidthCm      Species\n",
       "0   1            5.1           3.5            1.4           0.2  Iris-setosa\n",
       "1   2            4.9           3.0            1.4           0.2  Iris-setosa\n",
       "2   3            4.7           3.2            1.3           0.2  Iris-setosa\n",
       "3   4            4.6           3.1            1.5           0.2  Iris-setosa\n",
       "4   5            5.0           3.6            1.4           0.2  Iris-setosa\n",
       "5   6            5.4           3.9            1.7           0.4  Iris-setosa\n",
       "6   7            4.6           3.4            1.4           0.3  Iris-setosa\n",
       "7   8            5.0           3.4            1.5           0.2  Iris-setosa\n",
       "8   9            4.4           2.9            1.4           0.2  Iris-setosa\n",
       "9  10            4.9           3.1            1.5           0.1  Iris-setosa"
      ]
     },
     "execution_count": 4,
     "metadata": {},
     "output_type": "execute_result"
    }
   ],
   "source": [
    "df.head(10)"
   ]
  },
  {
   "cell_type": "markdown",
   "metadata": {},
   "source": [
    "### Dataset Information <a class=\"anchor\" id=\"sec1.3\"></a>"
   ]
  },
  {
   "cell_type": "markdown",
   "metadata": {},
   "source": [
    "<html>\n",
    "<p style=\"border:4px solid violet;color:indigo;background-color:tan\">Here we can see that all the data types are in <b>float</b> type except 'Species' which is in <b>object</b> type.</p>\n",
    "</html>"
   ]
  },
  {
   "cell_type": "code",
   "execution_count": 6,
   "metadata": {
    "execution": {
     "iopub.execute_input": "2022-08-16T18:02:14.547562Z",
     "iopub.status.busy": "2022-08-16T18:02:14.547150Z",
     "iopub.status.idle": "2022-08-16T18:02:14.574509Z",
     "shell.execute_reply": "2022-08-16T18:02:14.573151Z",
     "shell.execute_reply.started": "2022-08-16T18:02:14.547529Z"
    }
   },
   "outputs": [
    {
     "name": "stdout",
     "output_type": "stream",
     "text": [
      "<class 'pandas.core.frame.DataFrame'>\n",
      "RangeIndex: 150 entries, 0 to 149\n",
      "Data columns (total 6 columns):\n",
      " #   Column         Non-Null Count  Dtype  \n",
      "---  ------         --------------  -----  \n",
      " 0   Id             150 non-null    int64  \n",
      " 1   SepalLengthCm  150 non-null    float64\n",
      " 2   SepalWidthCm   150 non-null    float64\n",
      " 3   PetalLengthCm  150 non-null    float64\n",
      " 4   PetalWidthCm   150 non-null    float64\n",
      " 5   Species        150 non-null    object \n",
      "dtypes: float64(4), int64(1), object(1)\n",
      "memory usage: 7.2+ KB\n"
     ]
    }
   ],
   "source": [
    "df.info()"
   ]
  },
  {
   "cell_type": "markdown",
   "metadata": {},
   "source": [
    "### Summary Statistics <a class=\"anchor\" id=\"sec1.4\"></a>"
   ]
  },
  {
   "cell_type": "markdown",
   "metadata": {},
   "source": [
    "<html>\n",
    "<p style=\"color:chocolate;font-size:150%;\">\n",
    "    <b>Brief Information of different descriptive statistics-</b></p>\n",
    "<p style=\"border:4px solid violet;color:green;background-color:tan;\">\n",
    "    *<b>Measures of Frequency</b>              :- Count, Percent, Frequency.<br>\n",
    "    *<b>Measures of Central Tendency</b>       :- Mean, Median, and Mode.<br>\n",
    "    *<b>Measures of Dispersion or Variation</b>:- Range(min,max),Variance, Standard Deviation.<br>\n",
    "    *<b>Measures of Position</b>               :- Percentile Ranks, Quartile Ranks.</p>\n",
    "</html>"
   ]
  },
  {
   "cell_type": "code",
   "execution_count": 7,
   "metadata": {
    "execution": {
     "iopub.execute_input": "2022-08-16T18:02:15.861220Z",
     "iopub.status.busy": "2022-08-16T18:02:15.860571Z",
     "iopub.status.idle": "2022-08-16T18:02:15.991048Z",
     "shell.execute_reply": "2022-08-16T18:02:15.989809Z",
     "shell.execute_reply.started": "2022-08-16T18:02:15.861173Z"
    }
   },
   "outputs": [
    {
     "data": {
      "text/html": [
       "<style type=\"text/css\">\n",
       "#T_5e64a_row0_col0, #T_5e64a_row0_col1, #T_5e64a_row0_col2, #T_5e64a_row0_col3, #T_5e64a_row0_col4, #T_5e64a_row7_col0 {\n",
       "  background-color: #023858;\n",
       "  color: #f1f1f1;\n",
       "}\n",
       "#T_5e64a_row1_col0, #T_5e64a_row5_col0 {\n",
       "  background-color: #73a9cf;\n",
       "  color: #f1f1f1;\n",
       "}\n",
       "#T_5e64a_row1_col1, #T_5e64a_row5_col1 {\n",
       "  background-color: #faf3f9;\n",
       "  color: #000000;\n",
       "}\n",
       "#T_5e64a_row1_col2, #T_5e64a_row1_col3, #T_5e64a_row4_col2, #T_5e64a_row5_col2, #T_5e64a_row6_col2, #T_5e64a_row7_col4 {\n",
       "  background-color: #fdf5fa;\n",
       "  color: #000000;\n",
       "}\n",
       "#T_5e64a_row1_col4, #T_5e64a_row2_col3, #T_5e64a_row2_col4, #T_5e64a_row4_col3 {\n",
       "  background-color: #fef6fb;\n",
       "  color: #000000;\n",
       "}\n",
       "#T_5e64a_row2_col0 {\n",
       "  background-color: #c5cce3;\n",
       "  color: #000000;\n",
       "}\n",
       "#T_5e64a_row2_col1, #T_5e64a_row2_col2, #T_5e64a_row3_col0, #T_5e64a_row3_col3, #T_5e64a_row3_col4, #T_5e64a_row4_col4 {\n",
       "  background-color: #fff7fb;\n",
       "  color: #000000;\n",
       "}\n",
       "#T_5e64a_row3_col1, #T_5e64a_row5_col3 {\n",
       "  background-color: #fcf4fa;\n",
       "  color: #000000;\n",
       "}\n",
       "#T_5e64a_row3_col2, #T_5e64a_row5_col4, #T_5e64a_row6_col4 {\n",
       "  background-color: #fef6fa;\n",
       "  color: #000000;\n",
       "}\n",
       "#T_5e64a_row4_col0 {\n",
       "  background-color: #d0d1e6;\n",
       "  color: #000000;\n",
       "}\n",
       "#T_5e64a_row4_col1, #T_5e64a_row6_col3 {\n",
       "  background-color: #fbf3f9;\n",
       "  color: #000000;\n",
       "}\n",
       "#T_5e64a_row6_col0 {\n",
       "  background-color: #056faf;\n",
       "  color: #f1f1f1;\n",
       "}\n",
       "#T_5e64a_row6_col1 {\n",
       "  background-color: #faf2f8;\n",
       "  color: #000000;\n",
       "}\n",
       "#T_5e64a_row7_col1 {\n",
       "  background-color: #f8f1f8;\n",
       "  color: #000000;\n",
       "}\n",
       "#T_5e64a_row7_col2 {\n",
       "  background-color: #fbf4f9;\n",
       "  color: #000000;\n",
       "}\n",
       "#T_5e64a_row7_col3 {\n",
       "  background-color: #f9f2f8;\n",
       "  color: #000000;\n",
       "}\n",
       "</style>\n",
       "<table id=\"T_5e64a\">\n",
       "  <thead>\n",
       "    <tr>\n",
       "      <th class=\"blank level0\" >&nbsp;</th>\n",
       "      <th id=\"T_5e64a_level0_col0\" class=\"col_heading level0 col0\" >Id</th>\n",
       "      <th id=\"T_5e64a_level0_col1\" class=\"col_heading level0 col1\" >SepalLengthCm</th>\n",
       "      <th id=\"T_5e64a_level0_col2\" class=\"col_heading level0 col2\" >SepalWidthCm</th>\n",
       "      <th id=\"T_5e64a_level0_col3\" class=\"col_heading level0 col3\" >PetalLengthCm</th>\n",
       "      <th id=\"T_5e64a_level0_col4\" class=\"col_heading level0 col4\" >PetalWidthCm</th>\n",
       "    </tr>\n",
       "  </thead>\n",
       "  <tbody>\n",
       "    <tr>\n",
       "      <th id=\"T_5e64a_level0_row0\" class=\"row_heading level0 row0\" >count</th>\n",
       "      <td id=\"T_5e64a_row0_col0\" class=\"data row0 col0\" >150.000000</td>\n",
       "      <td id=\"T_5e64a_row0_col1\" class=\"data row0 col1\" >150.000000</td>\n",
       "      <td id=\"T_5e64a_row0_col2\" class=\"data row0 col2\" >150.000000</td>\n",
       "      <td id=\"T_5e64a_row0_col3\" class=\"data row0 col3\" >150.000000</td>\n",
       "      <td id=\"T_5e64a_row0_col4\" class=\"data row0 col4\" >150.000000</td>\n",
       "    </tr>\n",
       "    <tr>\n",
       "      <th id=\"T_5e64a_level0_row1\" class=\"row_heading level0 row1\" >mean</th>\n",
       "      <td id=\"T_5e64a_row1_col0\" class=\"data row1 col0\" >75.500000</td>\n",
       "      <td id=\"T_5e64a_row1_col1\" class=\"data row1 col1\" >5.843333</td>\n",
       "      <td id=\"T_5e64a_row1_col2\" class=\"data row1 col2\" >3.054000</td>\n",
       "      <td id=\"T_5e64a_row1_col3\" class=\"data row1 col3\" >3.758667</td>\n",
       "      <td id=\"T_5e64a_row1_col4\" class=\"data row1 col4\" >1.198667</td>\n",
       "    </tr>\n",
       "    <tr>\n",
       "      <th id=\"T_5e64a_level0_row2\" class=\"row_heading level0 row2\" >std</th>\n",
       "      <td id=\"T_5e64a_row2_col0\" class=\"data row2 col0\" >43.445368</td>\n",
       "      <td id=\"T_5e64a_row2_col1\" class=\"data row2 col1\" >0.828066</td>\n",
       "      <td id=\"T_5e64a_row2_col2\" class=\"data row2 col2\" >0.433594</td>\n",
       "      <td id=\"T_5e64a_row2_col3\" class=\"data row2 col3\" >1.764420</td>\n",
       "      <td id=\"T_5e64a_row2_col4\" class=\"data row2 col4\" >0.763161</td>\n",
       "    </tr>\n",
       "    <tr>\n",
       "      <th id=\"T_5e64a_level0_row3\" class=\"row_heading level0 row3\" >min</th>\n",
       "      <td id=\"T_5e64a_row3_col0\" class=\"data row3 col0\" >1.000000</td>\n",
       "      <td id=\"T_5e64a_row3_col1\" class=\"data row3 col1\" >4.300000</td>\n",
       "      <td id=\"T_5e64a_row3_col2\" class=\"data row3 col2\" >2.000000</td>\n",
       "      <td id=\"T_5e64a_row3_col3\" class=\"data row3 col3\" >1.000000</td>\n",
       "      <td id=\"T_5e64a_row3_col4\" class=\"data row3 col4\" >0.100000</td>\n",
       "    </tr>\n",
       "    <tr>\n",
       "      <th id=\"T_5e64a_level0_row4\" class=\"row_heading level0 row4\" >25%</th>\n",
       "      <td id=\"T_5e64a_row4_col0\" class=\"data row4 col0\" >38.250000</td>\n",
       "      <td id=\"T_5e64a_row4_col1\" class=\"data row4 col1\" >5.100000</td>\n",
       "      <td id=\"T_5e64a_row4_col2\" class=\"data row4 col2\" >2.800000</td>\n",
       "      <td id=\"T_5e64a_row4_col3\" class=\"data row4 col3\" >1.600000</td>\n",
       "      <td id=\"T_5e64a_row4_col4\" class=\"data row4 col4\" >0.300000</td>\n",
       "    </tr>\n",
       "    <tr>\n",
       "      <th id=\"T_5e64a_level0_row5\" class=\"row_heading level0 row5\" >50%</th>\n",
       "      <td id=\"T_5e64a_row5_col0\" class=\"data row5 col0\" >75.500000</td>\n",
       "      <td id=\"T_5e64a_row5_col1\" class=\"data row5 col1\" >5.800000</td>\n",
       "      <td id=\"T_5e64a_row5_col2\" class=\"data row5 col2\" >3.000000</td>\n",
       "      <td id=\"T_5e64a_row5_col3\" class=\"data row5 col3\" >4.350000</td>\n",
       "      <td id=\"T_5e64a_row5_col4\" class=\"data row5 col4\" >1.300000</td>\n",
       "    </tr>\n",
       "    <tr>\n",
       "      <th id=\"T_5e64a_level0_row6\" class=\"row_heading level0 row6\" >75%</th>\n",
       "      <td id=\"T_5e64a_row6_col0\" class=\"data row6 col0\" >112.750000</td>\n",
       "      <td id=\"T_5e64a_row6_col1\" class=\"data row6 col1\" >6.400000</td>\n",
       "      <td id=\"T_5e64a_row6_col2\" class=\"data row6 col2\" >3.300000</td>\n",
       "      <td id=\"T_5e64a_row6_col3\" class=\"data row6 col3\" >5.100000</td>\n",
       "      <td id=\"T_5e64a_row6_col4\" class=\"data row6 col4\" >1.800000</td>\n",
       "    </tr>\n",
       "    <tr>\n",
       "      <th id=\"T_5e64a_level0_row7\" class=\"row_heading level0 row7\" >max</th>\n",
       "      <td id=\"T_5e64a_row7_col0\" class=\"data row7 col0\" >150.000000</td>\n",
       "      <td id=\"T_5e64a_row7_col1\" class=\"data row7 col1\" >7.900000</td>\n",
       "      <td id=\"T_5e64a_row7_col2\" class=\"data row7 col2\" >4.400000</td>\n",
       "      <td id=\"T_5e64a_row7_col3\" class=\"data row7 col3\" >6.900000</td>\n",
       "      <td id=\"T_5e64a_row7_col4\" class=\"data row7 col4\" >2.500000</td>\n",
       "    </tr>\n",
       "  </tbody>\n",
       "</table>\n"
      ],
      "text/plain": [
       "<pandas.io.formats.style.Styler at 0x14bce79bc40>"
      ]
     },
     "execution_count": 7,
     "metadata": {},
     "output_type": "execute_result"
    }
   ],
   "source": [
    "df.describe().style.background_gradient()"
   ]
  },
  {
   "cell_type": "markdown",
   "metadata": {},
   "source": [
    "### Checking for unique values in all attribute <a class=\"anchor\" id=\"sec1.5\"></a>"
   ]
  },
  {
   "cell_type": "markdown",
   "metadata": {},
   "source": [
    "<html>\n",
    "<p style=\"border:4px solid violet;color:indigo;background-color:tan\">Different numbers of distint values in each attribute.our target varibale is Species and there are three distint values or three different types of flowers in <b>Species</b> attribute.</p>\n",
    "</html>"
   ]
  },
  {
   "cell_type": "code",
   "execution_count": 8,
   "metadata": {
    "execution": {
     "iopub.execute_input": "2022-08-16T18:02:17.254146Z",
     "iopub.status.busy": "2022-08-16T18:02:17.253742Z",
     "iopub.status.idle": "2022-08-16T18:02:17.267905Z",
     "shell.execute_reply": "2022-08-16T18:02:17.266539Z",
     "shell.execute_reply.started": "2022-08-16T18:02:17.254115Z"
    }
   },
   "outputs": [
    {
     "data": {
      "text/plain": [
       "Species            3\n",
       "PetalWidthCm      22\n",
       "SepalWidthCm      23\n",
       "SepalLengthCm     35\n",
       "PetalLengthCm     43\n",
       "Id               150\n",
       "dtype: int64"
      ]
     },
     "execution_count": 8,
     "metadata": {},
     "output_type": "execute_result"
    }
   ],
   "source": [
    "df.nunique().sort_values(ascending=True)"
   ]
  },
  {
   "cell_type": "code",
   "execution_count": 10,
   "metadata": {
    "execution": {
     "iopub.execute_input": "2022-08-16T18:02:17.696926Z",
     "iopub.status.busy": "2022-08-16T18:02:17.696524Z",
     "iopub.status.idle": "2022-08-16T18:02:17.704610Z",
     "shell.execute_reply": "2022-08-16T18:02:17.703484Z",
     "shell.execute_reply.started": "2022-08-16T18:02:17.696886Z"
    }
   },
   "outputs": [
    {
     "data": {
      "text/plain": [
       "array(['Iris-setosa', 'Iris-versicolor', 'Iris-virginica'], dtype=object)"
      ]
     },
     "execution_count": 10,
     "metadata": {},
     "output_type": "execute_result"
    }
   ],
   "source": [
    "df.Species.unique()"
   ]
  },
  {
   "cell_type": "markdown",
   "metadata": {},
   "source": [
    "<html>\n",
    "<p style=\"border:4px solid violet;color:indigo;background-color:tan\">Here I am Changing the range of quality variable from 'Iris-setosa', 'Iris-versicolor', 'Iris-virginica' to 0,1 and 2.\n",
    "    </p>\n",
    "    </html>"
   ]
  },
  {
   "cell_type": "code",
   "execution_count": 12,
   "metadata": {
    "execution": {
     "iopub.execute_input": "2022-08-16T18:02:18.515068Z",
     "iopub.status.busy": "2022-08-16T18:02:18.514625Z",
     "iopub.status.idle": "2022-08-16T18:02:18.522250Z",
     "shell.execute_reply": "2022-08-16T18:02:18.520868Z",
     "shell.execute_reply.started": "2022-08-16T18:02:18.515033Z"
    }
   },
   "outputs": [],
   "source": [
    "df['Species']=df['Species'].map({'Iris-setosa':0,'Iris-versicolor':1,'Iris-virginica':2})"
   ]
  },
  {
   "cell_type": "markdown",
   "metadata": {},
   "source": [
    "### Checking for missing values in each column <a class=\"anchor\" id=\"sec1.6\"></a>"
   ]
  },
  {
   "cell_type": "markdown",
   "metadata": {},
   "source": [
    "<html>\n",
    "<p style=\"border:4px solid violet;color:indigo;background-color:tan\">No such missing values in our dataset.<br>\n",
    "If you want to learn how to treat the missing values.Go through this link\n",
    "<a href=\"https://www.analyticsvidhya.com/blog/2021/10/handling-missing-value/\">CLICK HERE</a></p>\n",
    "</html>"
   ]
  },
  {
   "cell_type": "code",
   "execution_count": 13,
   "metadata": {
    "execution": {
     "iopub.execute_input": "2022-08-16T18:02:24.701848Z",
     "iopub.status.busy": "2022-08-16T18:02:24.701391Z",
     "iopub.status.idle": "2022-08-16T18:02:24.711217Z",
     "shell.execute_reply": "2022-08-16T18:02:24.710375Z",
     "shell.execute_reply.started": "2022-08-16T18:02:24.701812Z"
    }
   },
   "outputs": [
    {
     "data": {
      "text/plain": [
       "Id               0\n",
       "SepalLengthCm    0\n",
       "SepalWidthCm     0\n",
       "PetalLengthCm    0\n",
       "PetalWidthCm     0\n",
       "Species          0\n",
       "dtype: int64"
      ]
     },
     "execution_count": 13,
     "metadata": {},
     "output_type": "execute_result"
    }
   ],
   "source": [
    "df.isnull().sum()"
   ]
  },
  {
   "cell_type": "markdown",
   "metadata": {},
   "source": [
    "### percentage of missing values in each column <a class=\"anchor\" id=\"sec1.7\"></a>"
   ]
  },
  {
   "cell_type": "code",
   "execution_count": 14,
   "metadata": {
    "execution": {
     "iopub.execute_input": "2022-08-16T18:02:25.763350Z",
     "iopub.status.busy": "2022-08-16T18:02:25.762619Z",
     "iopub.status.idle": "2022-08-16T18:02:25.773553Z",
     "shell.execute_reply": "2022-08-16T18:02:25.772276Z",
     "shell.execute_reply.started": "2022-08-16T18:02:25.763301Z"
    }
   },
   "outputs": [
    {
     "name": "stdout",
     "output_type": "stream",
     "text": [
      "Id              0.00 %\n",
      "SepalLengthCm   0.00 %\n",
      "SepalWidthCm    0.00 %\n",
      "PetalLengthCm   0.00 %\n",
      "PetalWidthCm    0.00 %\n",
      "Species         0.00 %\n",
      "dtype: float64\n"
     ]
    }
   ],
   "source": [
    "pd.options.display.float_format = '{:,.2f} %'.format\n",
    "print((df.isnull().sum()/len(df))*100)\n",
    "pd.options.display.float_format = '{:,.2f}'.format"
   ]
  },
  {
   "cell_type": "markdown",
   "metadata": {},
   "source": [
    "## Data Visualization <a class=\"anchor\" id=\"sec2\"></a>"
   ]
  },
  {
   "cell_type": "markdown",
   "metadata": {},
   "source": [
    "### Missing Value Plot <a class=\"anchor\" id=\"sec2.1\"></a>"
   ]
  },
  {
   "cell_type": "code",
   "execution_count": 15,
   "metadata": {
    "execution": {
     "iopub.execute_input": "2022-08-16T18:02:27.541854Z",
     "iopub.status.busy": "2022-08-16T18:02:27.541372Z",
     "iopub.status.idle": "2022-08-16T18:02:27.552516Z",
     "shell.execute_reply": "2022-08-16T18:02:27.551588Z",
     "shell.execute_reply.started": "2022-08-16T18:02:27.541818Z"
    }
   },
   "outputs": [],
   "source": [
    "import missingno as msno"
   ]
  },
  {
   "cell_type": "code",
   "execution_count": 16,
   "metadata": {
    "execution": {
     "iopub.execute_input": "2022-08-16T18:02:27.960591Z",
     "iopub.status.busy": "2022-08-16T18:02:27.959786Z",
     "iopub.status.idle": "2022-08-16T18:02:28.712884Z",
     "shell.execute_reply": "2022-08-16T18:02:28.711692Z",
     "shell.execute_reply.started": "2022-08-16T18:02:27.960545Z"
    }
   },
   "outputs": [
    {
     "data": {
      "text/plain": [
       "<AxesSubplot:>"
      ]
     },
     "execution_count": 16,
     "metadata": {},
     "output_type": "execute_result"
    },
    {
     "data": {
      "image/png": "[encoded data removed]",
      "text/plain": [
       "<Figure size 2160x1152 with 2 Axes>"
      ]
     },
     "metadata": {
      "needs_background": "light"
     },
     "output_type": "display_data"
    }
   ],
   "source": [
    "msno.matrix(df,labels=[df.columns],figsize=(30,16),fontsize=12)"
   ]
  },
  {
   "cell_type": "markdown",
   "metadata": {},
   "source": [
    "### Checking the data distribution of each Continuous variable  <a class=\"anchor\" id=\"sec2.2\"></a>"
   ]
  },
  {
   "cell_type": "markdown",
   "metadata": {
    "execution": {
     "iopub.execute_input": "2022-08-10T18:08:01.151318Z",
     "iopub.status.busy": "2022-08-10T18:08:01.150797Z",
     "iopub.status.idle": "2022-08-10T18:08:01.161941Z",
     "shell.execute_reply": "2022-08-10T18:08:01.160277Z",
     "shell.execute_reply.started": "2022-08-10T18:08:01.151278Z"
    }
   },
   "source": [
    "<html>\n",
    "<p style=\"color:chocolate;font-size:150%;\">\n",
    "    <b>Skewed Distribution-</b></p>\n",
    "<p style=\"border:4px solid violet;color:green;background-color:tan;\">\n",
    "    <img src=\"https://www.ijamhrjournal.org/articles/2014/1/1/images/IntJAdvMedRes_2014_1_1_30_134449_u5.jpg\" alt=\"Computer man\" style=\"width:800px;height:300px;\"/>\n",
    "    <b>What is skewed distribution?</b><br>\n",
    "    If one tail is longer than another, the distribution is skewed. These distributions are sometimes called asymmetric or asymmetrical distributions as they don’t show any kind of symmetry. Symmetry means that one half of the distribution is a mirror image of the other half. For example, the normal distribution is a symmetric distribution with no skew. The tails are exactly the same.<br>\n",
    "    <b>Left Skewed or Negatively Skewed</b>:- A left-skewed distribution has a long left tail. Left-skewed distributions are also called negatively-skewed distributions.(Mean&lt;Median&lt;Mode)<br>\n",
    "    <b>Right Skewed or Positively Skewed</b>:-A right-skewed distribution has a long right tail. Right-skewed distributions are also called positive-skew distributions.(Mean&gt;Median&gt;Mode)<br>\n",
    "    <b>Symmetric Distribution:-</b>A symmetric distribution is a type of distribution where the left side of the distribution mirrors the right side(Mean=Median=Mode).ex-Normal Distribution\n",
    "    </p>\n",
    "</html>"
   ]
  },
  {
   "cell_type": "code",
   "execution_count": 20,
   "metadata": {
    "execution": {
     "iopub.execute_input": "2022-08-16T18:02:30.383216Z",
     "iopub.status.busy": "2022-08-16T18:02:30.382804Z",
     "iopub.status.idle": "2022-08-16T18:02:33.624181Z",
     "shell.execute_reply": "2022-08-16T18:02:33.623024Z",
     "shell.execute_reply.started": "2022-08-16T18:02:30.383184Z"
    }
   },
   "outputs": [
    {
     "data": {
      "image/png": "[encoded data removed]",
      "text/plain": [
       "<Figure size 864x864 with 4 Axes>"
      ]
     },
     "metadata": {
      "needs_background": "light"
     },
     "output_type": "display_data"
    }
   ],
   "source": [
    "plt.figure(figsize=(12, 12))\n",
    "for i, col in enumerate(df.select_dtypes(include=['float64']).columns):\n",
    "    plt.rcParams['axes.facecolor'] = 'black'\n",
    "    ax = plt.subplot(2,2, i+1)\n",
    "    sns.histplot(data=df, x=col, ax=ax,color='red',kde=True)\n",
    "plt.suptitle('Data distribution of continuous variables')\n",
    "plt.tight_layout()"
   ]
  },
  {
   "cell_type": "markdown",
   "metadata": {},
   "source": [
    "From the above graph we can see that there are a lot of attributes which are positively or negatively distributed."
   ]
  },
  {
   "cell_type": "markdown",
   "metadata": {},
   "source": [
    "### Box Plot <a class=\"anchor\" id=\"sec2.3\"></a>"
   ]
  },
  {
   "cell_type": "markdown",
   "metadata": {},
   "source": [
    "<html>\n",
    "<p style=\"color:chocolate;font-size:150%;\">\n",
    "    <b>Box Plot-</b></p>\n",
    "<p style=\"border:4px solid violet;color:green;background-color:tan;\">\n",
    "    <b>What is Box Plot?</b><br>\n",
    "    <img src=\"https://lh5.googleusercontent.com/Wz6lRE49LVUVq18MyNj6pEwDgdVcHhyDqaG5yGMQX36hy3ZGSyH7fs4A4nbJojGR58k=w2400\" alt=\"Computer man\" style=\"width:800px;height:300px;\"/>\n",
    "    In descriptive statistics, a box plot or boxplot is a method for graphically demonstrating the locality, spread and skewness groups of numerical data through their quartiles.</p><br>\n",
    "    <p style=\"border:4px solid violet;color:teal;background-color:tan;\">\n",
    "        <b>How to interpret boxplot</b><br>\n",
    "    *Median: In the box plot, the median is displayed rather than the mean.<br>\n",
    "    * Q1: The first quartile (25%) position.<br>\n",
    "  * Q3: The third quartile (75%) position.<br>\n",
    "  *  Interquartile range (IQR): a measure of statistical dispersion, being equal to the difference between 75th and 25th percentiles. It represents how 50% of the points were dispersed.<br>\n",
    "* Lower and upper 1.5*IQR whiskers: These represent the limits and boundaries for the outliers.<br>\n",
    "  *  Outliers: Defined as observations that fall below Q1 − 1.5 IQR or above Q3 + 1.5 IQR. Outliers are displayed as dots or circles.\n",
    "\n",
    "</p>\n",
    "</html>"
   ]
  },
  {
   "cell_type": "code",
   "execution_count": 21,
   "metadata": {
    "execution": {
     "iopub.execute_input": "2022-08-16T18:02:33.627161Z",
     "iopub.status.busy": "2022-08-16T18:02:33.626468Z",
     "iopub.status.idle": "2022-08-16T18:02:34.919568Z",
     "shell.execute_reply": "2022-08-16T18:02:34.918647Z",
     "shell.execute_reply.started": "2022-08-16T18:02:33.627118Z"
    }
   },
   "outputs": [
    {
     "data": {
      "image/png": "[encoded data removed]",
      "text/plain": [
       "<Figure size 1296x1296 with 4 Axes>"
      ]
     },
     "metadata": {
      "needs_background": "light"
     },
     "output_type": "display_data"
    }
   ],
   "source": [
    "plt.figure(figsize=(18, 18))\n",
    "for i, col in enumerate(df.select_dtypes(include=['float64']).columns):\n",
    "    plt.rcParams['axes.facecolor'] = 'black'\n",
    "    ax = plt.subplot(4,3, i+1)\n",
    "    sns.boxplot(data=df, x=col, ax=ax,color='blue')\n",
    "plt.suptitle('Box Plot of continuous variables')\n",
    "plt.tight_layout()"
   ]
  },
  {
   "cell_type": "code",
   "execution_count": 22,
   "metadata": {
    "execution": {
     "iopub.execute_input": "2022-08-16T18:02:34.922135Z",
     "iopub.status.busy": "2022-08-16T18:02:34.921281Z",
     "iopub.status.idle": "2022-08-16T18:02:34.929584Z",
     "shell.execute_reply": "2022-08-16T18:02:34.928633Z",
     "shell.execute_reply.started": "2022-08-16T18:02:34.922099Z"
    }
   },
   "outputs": [],
   "source": [
    "#This function will replace the outliers with the median from the dataset\n",
    "def outlier_treating(data,var):\n",
    "    df=data.copy()#creating a copy of the data\n",
    "    def outlier_detector(data):#detecting the outliers\n",
    "        outliers=[]\n",
    "        q1=np.percentile(data,25)\n",
    "        q3=np.percentile(data,75)\n",
    "        IQR=q3-q1\n",
    "        lb=q1-(IQR*1.5)\n",
    "        ub=q3+(IQR*1.5)\n",
    "        for i,j in enumerate(data):\n",
    "            if(j<lb or j>ub):\n",
    "                outliers.append(i)\n",
    "        return outliers\n",
    "    for i in var:\n",
    "        out_var=outlier_detector(df[i])#calling outlier_detector function \n",
    "        df.loc[out_var,i]=np.median(df[i])#replacing the outliers to the median\n",
    "    return df"
   ]
  },
  {
   "cell_type": "code",
   "execution_count": 23,
   "metadata": {
    "execution": {
     "iopub.execute_input": "2022-08-16T18:02:34.931925Z",
     "iopub.status.busy": "2022-08-16T18:02:34.931413Z",
     "iopub.status.idle": "2022-08-16T18:02:34.948289Z",
     "shell.execute_reply": "2022-08-16T18:02:34.947254Z",
     "shell.execute_reply.started": "2022-08-16T18:02:34.931891Z"
    }
   },
   "outputs": [],
   "source": [
    "#selecting variables that have outliers\n",
    "var=list(df.select_dtypes(include=['float64']).columns)"
   ]
  },
  {
   "cell_type": "code",
   "execution_count": 24,
   "metadata": {
    "execution": {
     "iopub.execute_input": "2022-08-16T18:02:34.951232Z",
     "iopub.status.busy": "2022-08-16T18:02:34.950165Z",
     "iopub.status.idle": "2022-08-16T18:02:34.976370Z",
     "shell.execute_reply": "2022-08-16T18:02:34.975152Z",
     "shell.execute_reply.started": "2022-08-16T18:02:34.951185Z"
    }
   },
   "outputs": [],
   "source": [
    "df=outlier_treating(df,var)"
   ]
  },
  {
   "cell_type": "markdown",
   "metadata": {},
   "source": [
    "### Data distribution after treating outliers <a class=\"anchor\" id=\"sec2.4\"></a>"
   ]
  },
  {
   "cell_type": "markdown",
   "metadata": {},
   "source": [
    "<html>\n",
    "<p style=\"border:4px solid violet;color:indigo;background-color:tan\">Now the Distribution plots look more symmetrical after treating the outliers.</p>\n",
    "</html>"
   ]
  },
  {
   "cell_type": "code",
   "execution_count": 64,
   "metadata": {
    "execution": {
     "iopub.execute_input": "2022-08-16T18:02:35.587814Z",
     "iopub.status.busy": "2022-08-16T18:02:35.586650Z",
     "iopub.status.idle": "2022-08-16T18:02:38.258925Z",
     "shell.execute_reply": "2022-08-16T18:02:38.257585Z",
     "shell.execute_reply.started": "2022-08-16T18:02:35.587762Z"
    }
   },
   "outputs": [
    {
     "data": {
      "image/png": "[encoded data removed]",
      "text/plain": [
       "<Figure size 864x576 with 4 Axes>"
      ]
     },
     "metadata": {
      "needs_background": "light"
     },
     "output_type": "display_data"
    }
   ],
   "source": [
    "plt.figure(figsize=(12, 8))\n",
    "for i, col in enumerate(df.select_dtypes(include=['float64']).columns):\n",
    "    plt.rcParams['axes.facecolor'] = 'black'\n",
    "    ax = plt.subplot(2,2, i+1)\n",
    "    sns.histplot(data=df, x=col, ax=ax,color='red',kde=True)\n",
    "plt.suptitle('Data distribution of continuous variables')\n",
    "plt.tight_layout()"
   ]
  },
  {
   "cell_type": "markdown",
   "metadata": {},
   "source": [
    "### Box Plot after treating outliers <a class=\"anchor\" id=\"sec2.5\"></a>"
   ]
  },
  {
   "cell_type": "markdown",
   "metadata": {
    "execution": {
     "iopub.execute_input": "2022-08-12T07:52:51.262286Z",
     "iopub.status.busy": "2022-08-12T07:52:51.261990Z",
     "iopub.status.idle": "2022-08-12T07:52:51.268847Z",
     "shell.execute_reply": "2022-08-12T07:52:51.267609Z",
     "shell.execute_reply.started": "2022-08-12T07:52:51.262263Z"
    }
   },
   "source": [
    "<html>\n",
    "<p style=\"border:4px solid violet;color:indigo;background-color:tan\">Now our Box plots look better after treating the outliers.</p>\n",
    "</html>"
   ]
  },
  {
   "cell_type": "code",
   "execution_count": 66,
   "metadata": {
    "execution": {
     "iopub.execute_input": "2022-08-16T18:02:38.261005Z",
     "iopub.status.busy": "2022-08-16T18:02:38.260606Z",
     "iopub.status.idle": "2022-08-16T18:02:39.550235Z",
     "shell.execute_reply": "2022-08-16T18:02:39.549058Z",
     "shell.execute_reply.started": "2022-08-16T18:02:38.260971Z"
    }
   },
   "outputs": [
    {
     "data": {
      "image/png": "[encoded data removed]",
      "text/plain": [
       "<Figure size 864x576 with 4 Axes>"
      ]
     },
     "metadata": {
      "needs_background": "light"
     },
     "output_type": "display_data"
    }
   ],
   "source": [
    "plt.figure(figsize=(12, 8))\n",
    "for i, col in enumerate(df.select_dtypes(include=['float64']).columns):\n",
    "    plt.rcParams['axes.facecolor'] = 'black'\n",
    "    ax = plt.subplot(2,2, i+1)\n",
    "    sns.boxplot(data=df, x=col, ax=ax,color='blue')\n",
    "plt.suptitle('Box Plot of continuous variables')\n",
    "plt.tight_layout()"
   ]
  },
  {
   "cell_type": "markdown",
   "metadata": {},
   "source": [
    "### Heatmap <a class=\"anchor\" id=\"sec2.6\"></a>"
   ]
  },
  {
   "cell_type": "markdown",
   "metadata": {
    "execution": {
     "iopub.execute_input": "2022-08-12T07:32:18.183566Z",
     "iopub.status.busy": "2022-08-12T07:32:18.183246Z",
     "iopub.status.idle": "2022-08-12T07:32:18.189915Z",
     "shell.execute_reply": "2022-08-12T07:32:18.188713Z",
     "shell.execute_reply.started": "2022-08-12T07:32:18.183543Z"
    }
   },
   "source": [
    "<html>\n",
    "<p style=\"color:chocolate;font-size:150%;\">\n",
    "    <b>Correlation Coefficient-</b></p>\n",
    "    <img src=\"https://lh6.googleusercontent.com/WJ-mqD3qf1j4DsE47HifHWf6d3H_2rrjbA0yVPpY-pIGapiZPX2uzM5l055oW-Nvp1U=w2400\" alt=\"Computer man\" style=\"width:800px;height:300px;\"/>\n",
    "    <img src=\"https://lh5.googleusercontent.com/mJZDT-3QSQol0hs-opFs6NWUYMpFmiB7Hye-SQGaYJLiO-2LO2-a4358ljGymYUA4Yw=w2400\" alt=\"Computer man\" style=\"width:600px;height:200px;\"/>\n",
    "</html>"
   ]
  },
  {
   "cell_type": "markdown",
   "metadata": {},
   "source": [
    "<html>\n",
    "<p style=\"border:4px solid violet;color:indigo;background-color:tan\">With this heatmap plot we can interpret which variable is how much correlated to other variable.</p>\n",
    "</html>"
   ]
  },
  {
   "cell_type": "code",
   "execution_count": 28,
   "metadata": {
    "execution": {
     "iopub.execute_input": "2022-08-16T18:02:39.552419Z",
     "iopub.status.busy": "2022-08-16T18:02:39.552087Z",
     "iopub.status.idle": "2022-08-16T18:02:40.389179Z",
     "shell.execute_reply": "2022-08-16T18:02:40.387992Z",
     "shell.execute_reply.started": "2022-08-16T18:02:39.552389Z"
    }
   },
   "outputs": [
    {
     "data": {
      "image/png": "[encoded data removed]",
      "text/plain": [
       "<Figure size 576x576 with 2 Axes>"
      ]
     },
     "metadata": {
      "needs_background": "light"
     },
     "output_type": "display_data"
    }
   ],
   "source": [
    "plt.figure(figsize=(8,8))\n",
    "sns.heatmap(df.select_dtypes(include=['float']).corr(),annot=True,center = 0)\n",
    "plt.show()"
   ]
  },
  {
   "cell_type": "markdown",
   "metadata": {},
   "source": [
    "### Bar Plot <a class=\"anchor\" id=\"sec2.7\"></a>"
   ]
  },
  {
   "cell_type": "markdown",
   "metadata": {
    "execution": {
     "iopub.execute_input": "2022-08-12T07:46:50.866379Z",
     "iopub.status.busy": "2022-08-12T07:46:50.866043Z",
     "iopub.status.idle": "2022-08-12T07:46:50.872530Z",
     "shell.execute_reply": "2022-08-12T07:46:50.871620Z",
     "shell.execute_reply.started": "2022-08-12T07:46:50.866355Z"
    }
   },
   "source": [
    "<html>\n",
    "<p style=\"border:4px solid violet;color:indigo;background-color:tan\">Here we can look at each plot and see the contribution of each feature to the different Species .</p>\n",
    "</html>"
   ]
  },
  {
   "cell_type": "code",
   "execution_count": 29,
   "metadata": {
    "execution": {
     "iopub.execute_input": "2022-08-16T18:02:40.391837Z",
     "iopub.status.busy": "2022-08-16T18:02:40.391465Z",
     "iopub.status.idle": "2022-08-16T18:02:43.888195Z",
     "shell.execute_reply": "2022-08-16T18:02:43.886966Z",
     "shell.execute_reply.started": "2022-08-16T18:02:40.391804Z"
    }
   },
   "outputs": [
    {
     "data": {
      "image/png": "[encoded data removed]",
      "text/plain": [
       "<Figure size 1296x1296 with 4 Axes>"
      ]
     },
     "metadata": {
      "needs_background": "light"
     },
     "output_type": "display_data"
    }
   ],
   "source": [
    "plt.figure(figsize=(18, 18))\n",
    "for i, col in enumerate(df.select_dtypes(include=['float64']).columns):\n",
    "    plt.rcParams['axes.facecolor'] = 'black'\n",
    "    ax = plt.subplot(3,4, i+1)\n",
    "    sns.barplot(data=df,x='Species', y=col, ax=ax,edgecolor=\"black\",palette='viridis_r')\n",
    "plt.suptitle('Data distribution of continuous variables')\n",
    "plt.tight_layout()"
   ]
  },
  {
   "cell_type": "markdown",
   "metadata": {},
   "source": [
    "### Analysing the target Variable <a class=\"anchor\" id=\"sec2.4\"></a>"
   ]
  },
  {
   "cell_type": "markdown",
   "metadata": {},
   "source": [
    "#### Quality"
   ]
  },
  {
   "cell_type": "markdown",
   "metadata": {},
   "source": [
    "<html>\n",
    "<p style=\"color:chocolate;font-size:150%;\">\n",
    "    <b>Balanced and Imbalanced data-</b></p>\n",
    "    <img src=\"https://lh5.googleusercontent.com/KehyaPcGqhC5JHTYIHGbhmYcmwqoqM7bwsqlbwB8j9lkpQm7O3-LDteJn2Z6SqiWX2c=w2400\" alt=\"Computer man\" style=\"width:800px;height:300px;\"/>\n",
    "<p style=\"border:4px solid violet;color:green;background-color:tan;\">\n",
    "    <b>What is Balanced data?</b><br>\n",
    "    Balanced data refers to those types of datasets where the target class has an even distribution of observations, i.e all class label have equal number of observations in the dataset.</p>\n",
    "<p style=\"border:4px solid violet;color:green;background-color:tan;\">\n",
    "    <b>What is Imbalanced data?</b><br>\n",
    "    Imbalanced data refers to those types of datasets where the target class has an uneven distribution of observations, i.e one class label has a very high number of observations and the other has a very low number of observations.</p>\n",
    "    </html>"
   ]
  },
  {
   "cell_type": "markdown",
   "metadata": {},
   "source": [
    "### Pie Chart shows that the target class is imbalanced.<a class=\"anchor\" id=\"sec2.8\"></a>"
   ]
  },
  {
   "cell_type": "markdown",
   "metadata": {},
   "source": [
    "<html>\n",
    "<p style=\"border:4px solid violet;color:indigo;background-color:tan\">From the below graph it's clear that this is fully balanced data.</p>\n",
    "</html>"
   ]
  },
  {
   "cell_type": "code",
   "execution_count": 31,
   "metadata": {
    "execution": {
     "iopub.execute_input": "2022-08-16T18:02:47.314933Z",
     "iopub.status.busy": "2022-08-16T18:02:47.314483Z",
     "iopub.status.idle": "2022-08-16T18:02:47.460220Z",
     "shell.execute_reply": "2022-08-16T18:02:47.458636Z",
     "shell.execute_reply.started": "2022-08-16T18:02:47.314896Z"
    }
   },
   "outputs": [
    {
     "data": {
      "image/png": "[encoded data removed]",
      "text/plain": [
       "<Figure size 432x288 with 1 Axes>"
      ]
     },
     "metadata": {},
     "output_type": "display_data"
    }
   ],
   "source": [
    "target_var=pd.crosstab(index=df['Species'],columns='% observations')\n",
    "plt.pie(target_var['% observations'],labels=target_var['% observations'].index,autopct='%.0f%%')\n",
    "plt.title('Species')\n",
    "plt.show()"
   ]
  },
  {
   "cell_type": "markdown",
   "metadata": {},
   "source": [
    "### Count plot shows that the target class is imbalanced <a class=\"anchor\" id=\"sec2.9\"></a>"
   ]
  },
  {
   "cell_type": "code",
   "execution_count": 32,
   "metadata": {
    "execution": {
     "iopub.execute_input": "2022-08-16T18:03:23.870527Z",
     "iopub.status.busy": "2022-08-16T18:03:23.870126Z",
     "iopub.status.idle": "2022-08-16T18:03:24.073733Z",
     "shell.execute_reply": "2022-08-16T18:03:24.072367Z",
     "shell.execute_reply.started": "2022-08-16T18:03:23.870496Z"
    }
   },
   "outputs": [
    {
     "data": {
      "image/png": "[encoded data removed]",
      "text/plain": [
       "<Figure size 432x288 with 1 Axes>"
      ]
     },
     "metadata": {
      "needs_background": "light"
     },
     "output_type": "display_data"
    }
   ],
   "source": [
    "sns.barplot(x=target_var.index,y=target_var['% observations'])\n",
    "plt.title('quality')\n",
    "plt.show()"
   ]
  },
  {
   "cell_type": "code",
   "execution_count": 43,
   "metadata": {
    "execution": {
     "iopub.execute_input": "2022-08-16T18:03:45.681697Z",
     "iopub.status.busy": "2022-08-16T18:03:45.681284Z",
     "iopub.status.idle": "2022-08-16T18:03:45.687729Z",
     "shell.execute_reply": "2022-08-16T18:03:45.686748Z",
     "shell.execute_reply.started": "2022-08-16T18:03:45.681649Z"
    }
   },
   "outputs": [],
   "source": [
    "X=df.iloc[:,1:-1]\n",
    "y=df.iloc[:,-1]"
   ]
  },
  {
   "cell_type": "markdown",
   "metadata": {},
   "source": [
    "### Feature Selection <a class=\"anchor\" id=\"sec3\"></a>"
   ]
  },
  {
   "cell_type": "markdown",
   "metadata": {
    "execution": {
     "iopub.execute_input": "2022-08-14T06:40:18.903852Z",
     "iopub.status.busy": "2022-08-14T06:40:18.903114Z",
     "iopub.status.idle": "2022-08-14T06:40:18.913213Z",
     "shell.execute_reply": "2022-08-14T06:40:18.911852Z",
     "shell.execute_reply.started": "2022-08-14T06:40:18.903803Z"
    }
   },
   "source": [
    "<html>\n",
    "<p style=\"color:chocolate;font-size:150%;\">\n",
    "    <b>Feature Selection-</b></p>\n",
    "<p style=\"border:4px solid violet;color:green;background-color:tan;\">\n",
    "    Feature selection methods are intended to reduce the number of input variables to those that are believed to be most useful to a model in order to predict the target variable..</p>\n",
    "<img src=\"https://lh6.googleusercontent.com/exNj6JGWZNAzyB8XXd1LM5FrgMGbfyV09Qgts5bPJA14O7-8AqATF9suuWqYo6oYhOk=w2400\" alt=\"Computer man\" style=\"width:800px;height:300px;\"/>\n",
    " </html>"
   ]
  },
  {
   "cell_type": "markdown",
   "metadata": {},
   "source": [
    "<html>\n",
    "<p style=\"border:4px solid violet;color:green;background-color:tan;\">\n",
    "    In our dataset we have numerical Input variable and Categorical Output variable.so we will use <b>ANOVA</b> for the feature selection.</p>"
   ]
  },
  {
   "cell_type": "code",
   "execution_count": 44,
   "metadata": {
    "execution": {
     "iopub.execute_input": "2022-08-16T18:03:47.422891Z",
     "iopub.status.busy": "2022-08-16T18:03:47.422461Z",
     "iopub.status.idle": "2022-08-16T18:03:47.667274Z",
     "shell.execute_reply": "2022-08-16T18:03:47.666046Z",
     "shell.execute_reply.started": "2022-08-16T18:03:47.422856Z"
    }
   },
   "outputs": [],
   "source": [
    "from sklearn.feature_selection import SelectKBest\n",
    "from sklearn.feature_selection import f_classif#ANOVA"
   ]
  },
  {
   "cell_type": "code",
   "execution_count": 45,
   "metadata": {
    "execution": {
     "iopub.execute_input": "2022-08-16T18:03:47.730179Z",
     "iopub.status.busy": "2022-08-16T18:03:47.729758Z",
     "iopub.status.idle": "2022-08-16T18:03:47.744615Z",
     "shell.execute_reply": "2022-08-16T18:03:47.743344Z",
     "shell.execute_reply.started": "2022-08-16T18:03:47.730148Z"
    }
   },
   "outputs": [
    {
     "data": {
      "text/html": [
       "<style>#sk-container-id-2 {color: black;background-color: white;}#sk-container-id-2 pre{padding: 0;}#sk-container-id-2 div.sk-toggleable {background-color: white;}#sk-container-id-2 label.sk-toggleable__label {cursor: pointer;display: block;width: 100%;margin-bottom: 0;padding: 0.3em;box-sizing: border-box;text-align: center;}#sk-container-id-2 label.sk-toggleable__label-arrow:before {content: \"▸\";float: left;margin-right: 0.25em;color: #696969;}#sk-container-id-2 label.sk-toggleable__label-arrow:hover:before {color: black;}#sk-container-id-2 div.sk-estimator:hover label.sk-toggleable__label-arrow:before {color: black;}#sk-container-id-2 div.sk-toggleable__content {max-height: 0;max-width: 0;overflow: hidden;text-align: left;background-color: #f0f8ff;}#sk-container-id-2 div.sk-toggleable__content pre {margin: 0.2em;color: black;border-radius: 0.25em;background-color: #f0f8ff;}#sk-container-id-2 input.sk-toggleable__control:checked~div.sk-toggleable__content {max-height: 200px;max-width: 100%;overflow: auto;}#sk-container-id-2 input.sk-toggleable__control:checked~label.sk-toggleable__label-arrow:before {content: \"▾\";}#sk-container-id-2 div.sk-estimator input.sk-toggleable__control:checked~label.sk-toggleable__label {background-color: #d4ebff;}#sk-container-id-2 div.sk-label input.sk-toggleable__control:checked~label.sk-toggleable__label {background-color: #d4ebff;}#sk-container-id-2 input.sk-hidden--visually {border: 0;clip: rect(1px 1px 1px 1px);clip: rect(1px, 1px, 1px, 1px);height: 1px;margin: -1px;overflow: hidden;padding: 0;position: absolute;width: 1px;}#sk-container-id-2 div.sk-estimator {font-family: monospace;background-color: #f0f8ff;border: 1px dotted black;border-radius: 0.25em;box-sizing: border-box;margin-bottom: 0.5em;}#sk-container-id-2 div.sk-estimator:hover {background-color: #d4ebff;}#sk-container-id-2 div.sk-parallel-item::after {content: \"\";width: 100%;border-bottom: 1px solid gray;flex-grow: 1;}#sk-container-id-2 div.sk-label:hover label.sk-toggleable__label {background-color: #d4ebff;}#sk-container-id-2 div.sk-serial::before {content: \"\";position: absolute;border-left: 1px solid gray;box-sizing: border-box;top: 0;bottom: 0;left: 50%;z-index: 0;}#sk-container-id-2 div.sk-serial {display: flex;flex-direction: column;align-items: center;background-color: white;padding-right: 0.2em;padding-left: 0.2em;position: relative;}#sk-container-id-2 div.sk-item {position: relative;z-index: 1;}#sk-container-id-2 div.sk-parallel {display: flex;align-items: stretch;justify-content: center;background-color: white;position: relative;}#sk-container-id-2 div.sk-item::before, #sk-container-id-2 div.sk-parallel-item::before {content: \"\";position: absolute;border-left: 1px solid gray;box-sizing: border-box;top: 0;bottom: 0;left: 50%;z-index: -1;}#sk-container-id-2 div.sk-parallel-item {display: flex;flex-direction: column;z-index: 1;position: relative;background-color: white;}#sk-container-id-2 div.sk-parallel-item:first-child::after {align-self: flex-end;width: 50%;}#sk-container-id-2 div.sk-parallel-item:last-child::after {align-self: flex-start;width: 50%;}#sk-container-id-2 div.sk-parallel-item:only-child::after {width: 0;}#sk-container-id-2 div.sk-dashed-wrapped {border: 1px dashed gray;margin: 0 0.4em 0.5em 0.4em;box-sizing: border-box;padding-bottom: 0.4em;background-color: white;}#sk-container-id-2 div.sk-label label {font-family: monospace;font-weight: bold;display: inline-block;line-height: 1.2em;}#sk-container-id-2 div.sk-label-container {text-align: center;}#sk-container-id-2 div.sk-container {/* jupyter's `normalize.less` sets `[hidden] { display: none; }` but bootstrap.min.css set `[hidden] { display: none !important; }` so we also need the `!important` here to be able to override the default hidden behavior on the sphinx rendered scikit-learn.org. See: https://github.com/scikit-learn/scikit-learn/issues/21755 */display: inline-block !important;position: relative;}#sk-container-id-2 div.sk-text-repr-fallback {display: none;}</style><div id=\"sk-container-id-2\" class=\"sk-top-container\"><div class=\"sk-text-repr-fallback\"><pre>SelectKBest(k=&#x27;all&#x27;)</pre><b>In a Jupyter environment, please rerun this cell to show the HTML representation or trust the notebook. <br />On GitHub, the HTML representation is unable to render, please try loading this page with nbviewer.org.</b></div><div class=\"sk-container\" hidden><div class=\"sk-item\"><div class=\"sk-estimator sk-toggleable\"><input class=\"sk-toggleable__control sk-hidden--visually\" id=\"sk-estimator-id-2\" type=\"checkbox\" checked><label for=\"sk-estimator-id-2\" class=\"sk-toggleable__label sk-toggleable__label-arrow\">SelectKBest</label><div class=\"sk-toggleable__content\"><pre>SelectKBest(k=&#x27;all&#x27;)</pre></div></div></div></div></div>"
      ],
      "text/plain": [
       "SelectKBest(k='all')"
      ]
     },
     "execution_count": 45,
     "metadata": {},
     "output_type": "execute_result"
    }
   ],
   "source": [
    "fs = SelectKBest(score_func=f_classif, k='all')\n",
    "fs.fit(X, y)"
   ]
  },
  {
   "cell_type": "code",
   "execution_count": 46,
   "metadata": {
    "execution": {
     "iopub.execute_input": "2022-08-16T18:03:48.140305Z",
     "iopub.status.busy": "2022-08-16T18:03:48.139469Z",
     "iopub.status.idle": "2022-08-16T18:03:48.146302Z",
     "shell.execute_reply": "2022-08-16T18:03:48.144976Z",
     "shell.execute_reply.started": "2022-08-16T18:03:48.140262Z"
    }
   },
   "outputs": [],
   "source": [
    "feature_contribution=(fs.scores_/sum(fs.scores_))*100"
   ]
  },
  {
   "cell_type": "markdown",
   "metadata": {},
   "source": [
    "### Feature importance Graph <a class=\"anchor\" id=\"sec3.1\"></a>"
   ]
  },
  {
   "cell_type": "code",
   "execution_count": 47,
   "metadata": {
    "execution": {
     "iopub.execute_input": "2022-08-16T18:03:48.691377Z",
     "iopub.status.busy": "2022-08-16T18:03:48.690791Z",
     "iopub.status.idle": "2022-08-16T18:03:48.973646Z",
     "shell.execute_reply": "2022-08-16T18:03:48.972451Z",
     "shell.execute_reply.started": "2022-08-16T18:03:48.691343Z"
    }
   },
   "outputs": [
    {
     "name": "stdout",
     "output_type": "stream",
     "text": [
      "SepalLengthCm : 5.19%\n",
      "SepalWidthCm : 1.73%\n",
      "PetalLengthCm : 51.32%\n",
      "PetalWidthCm : 41.76%\n"
     ]
    },
    {
     "data": {
      "image/png": "[encoded data removed]",
      "text/plain": [
       "<Figure size 864x432 with 1 Axes>"
      ]
     },
     "metadata": {
      "needs_background": "light"
     },
     "output_type": "display_data"
    }
   ],
   "source": [
    "for i,j in enumerate(X.columns):\n",
    "    print(f'{j} : {feature_contribution[i]:.2f}%')\n",
    "plt.figure(figsize=(12,6))\n",
    "sns.barplot(x=X.columns,y=fs.scores_)\n",
    "plt.show()"
   ]
  },
  {
   "cell_type": "markdown",
   "metadata": {},
   "source": [
    "<html>\n",
    "<p style=\"border:4px solid violet;color:green;background-color:tan;\">\n",
    "    From the above bar garph we can see the feature importance and we will include only those features which are more important for our model.</p>\n",
    "    </html>"
   ]
  },
  {
   "cell_type": "code",
   "execution_count": 48,
   "metadata": {
    "execution": {
     "iopub.execute_input": "2022-08-16T18:03:49.368177Z",
     "iopub.status.busy": "2022-08-16T18:03:49.367759Z",
     "iopub.status.idle": "2022-08-16T18:03:49.375416Z",
     "shell.execute_reply": "2022-08-16T18:03:49.374420Z",
     "shell.execute_reply.started": "2022-08-16T18:03:49.368144Z"
    }
   },
   "outputs": [],
   "source": [
    "X1=df[['PetalLengthCm','SepalLengthCm','PetalLengthCm']]"
   ]
  },
  {
   "cell_type": "markdown",
   "metadata": {},
   "source": [
    "### Splitting our dataset into train and test set <a class=\"anchor\" id=\"sec4\"></a>"
   ]
  },
  {
   "cell_type": "code",
   "execution_count": 67,
   "metadata": {
    "execution": {
     "iopub.execute_input": "2022-08-16T18:03:50.068042Z",
     "iopub.status.busy": "2022-08-16T18:03:50.067070Z",
     "iopub.status.idle": "2022-08-16T18:03:50.073288Z",
     "shell.execute_reply": "2022-08-16T18:03:50.072079Z",
     "shell.execute_reply.started": "2022-08-16T18:03:50.068007Z"
    }
   },
   "outputs": [],
   "source": [
    "from sklearn.model_selection import train_test_split"
   ]
  },
  {
   "cell_type": "code",
   "execution_count": 68,
   "metadata": {
    "execution": {
     "iopub.execute_input": "2022-08-16T18:03:50.442156Z",
     "iopub.status.busy": "2022-08-16T18:03:50.441733Z",
     "iopub.status.idle": "2022-08-16T18:03:50.452688Z",
     "shell.execute_reply": "2022-08-16T18:03:50.451340Z",
     "shell.execute_reply.started": "2022-08-16T18:03:50.442126Z"
    }
   },
   "outputs": [],
   "source": [
    "#splitting our dataset in 80% training and 20% testset\n",
    "X_train,X_test,y_train,y_test=train_test_split(X1,y,test_size=0.20,stratify=y,random_state=0)"
   ]
  },
  {
   "cell_type": "markdown",
   "metadata": {},
   "source": [
    "### Feature Scaling <a class=\"anchor\" id=\"sec5\"></a>"
   ]
  },
  {
   "cell_type": "markdown",
   "metadata": {},
   "source": [
    "<html>\n",
    "<p style=\"color:chocolate;font-size:150%;\">\n",
    "    <b>Feature Scaling-</b></p>\n",
    "<p style=\"border:4px solid violet;color:green;background-color:tan;\">\n",
    "    <b>What is Normalization?</b><br>\n",
    "    Normalization is a scaling technique in which values are shifted and rescaled so that they end up ranging between 0 and 1. It is also known as Min-Max scaling.<br>\n",
    "    <img src=\"https://lh3.googleusercontent.com/q9a09LIGXoRO_1bdgFw0C3WcjyEhpDnJ3C8COL65yn0gWhRTtFm5US-Q33aAQujuETQ=w2400\" alt=\"Computer man\" style=\"width:800px;height:200px;\"/>\n",
    "    <b>What is Standardization?</b><br>\n",
    "    Standardization is another scaling technique where the values are centered around the mean with a unit standard deviation. This means that the mean of the attribute becomes zero and the resultant distribution has a unit standard deviation.\n",
    "        <img src=\"https://lh6.googleusercontent.com/_y4dtry_8ImYjqLTXcH68ZpB1--Iea2n2m08d-GLpbTQ4VSREwy3v1PcX8dGQwLE9PE=w2400\" alt=\"Computer man\" style=\"width:800px;height:200px;\"/></p>"
   ]
  },
  {
   "cell_type": "markdown",
   "metadata": {},
   "source": [
    "<html>\n",
    "<p style=\"border:4px solid violet;color:green;background-color:tan;\">\n",
    "    Here we are going to use <b>Standardization</b>.</p>\n",
    "    </html>"
   ]
  },
  {
   "cell_type": "code",
   "execution_count": 69,
   "metadata": {
    "execution": {
     "iopub.execute_input": "2022-08-16T18:03:52.217444Z",
     "iopub.status.busy": "2022-08-16T18:03:52.216789Z",
     "iopub.status.idle": "2022-08-16T18:03:52.222779Z",
     "shell.execute_reply": "2022-08-16T18:03:52.221452Z",
     "shell.execute_reply.started": "2022-08-16T18:03:52.217405Z"
    }
   },
   "outputs": [],
   "source": [
    "from sklearn.preprocessing import StandardScaler"
   ]
  },
  {
   "cell_type": "code",
   "execution_count": 70,
   "metadata": {
    "execution": {
     "iopub.execute_input": "2022-08-16T18:03:56.537077Z",
     "iopub.status.busy": "2022-08-16T18:03:56.536634Z",
     "iopub.status.idle": "2022-08-16T18:03:56.550171Z",
     "shell.execute_reply": "2022-08-16T18:03:56.549044Z",
     "shell.execute_reply.started": "2022-08-16T18:03:56.537044Z"
    }
   },
   "outputs": [],
   "source": [
    "sc=StandardScaler()\n",
    "X_train=sc.fit_transform(X_train)\n",
    "X_test=sc.transform(X_test)"
   ]
  },
  {
   "cell_type": "markdown",
   "metadata": {},
   "source": [
    "## Modeling <a class=\"anchor\" id=\"sec6\"></a>"
   ]
  },
  {
   "cell_type": "markdown",
   "metadata": {},
   "source": [
    "### Performance Measures for Multi-Class"
   ]
  },
  {
   "cell_type": "markdown",
   "metadata": {
    "execution": {
     "iopub.execute_input": "2022-08-14T18:23:05.915479Z",
     "iopub.status.busy": "2022-08-14T18:23:05.914980Z",
     "iopub.status.idle": "2022-08-14T18:23:05.924035Z",
     "shell.execute_reply": "2022-08-14T18:23:05.922184Z",
     "shell.execute_reply.started": "2022-08-14T18:23:05.915441Z"
    }
   },
   "source": [
    "<html>\n",
    "<p style=\"border:4px solid violet;color:green;background-color:tan;\">\n",
    "    <b>Confusion Matrix-</b><br>\n",
    "    <img src=\"https://lh6.googleusercontent.com/WJEnoqTTOGL2LQynBs3nG4uA47_UB5imRkgfTKVwYaTq8Zmmi-_Ns7SEPI90VVjt5-I=w2400\" alt=\"Computer man\" style=\"width:800px;height:300px;\"/>\n",
    "    <br>\n",
    "    <b>Other Multiclass Classification Metrics:</b><br>\n",
    "    <img src=\"https://lh6.googleusercontent.com/rLIeVDOU5r4vAL1wPwWM0NtxKMUTzgkgOVZkkGiXxMC1VtCimZSrwLTYeEOap5Js8MY=w2400\" alt=\"Computer man\" style=\"width:800px;height:300px;\"/>\n",
    "    </p>\n",
    "    </html>"
   ]
  },
  {
   "cell_type": "markdown",
   "metadata": {},
   "source": [
    "### K-fold Cross Validation"
   ]
  },
  {
   "cell_type": "markdown",
   "metadata": {},
   "source": [
    "<html>\n",
    "<p style=\"color:chocolate;font-size:150%;\">\n",
    "    <b>K-fold Cross validation-</b></p>\n",
    "<p style=\"border:4px solid violet;color:green;background-color:tan;\">\n",
    "    <b>What is Cross Validation?</b><br>\n",
    "    Cross-validation is a technique in which we train our model using the subset of the data-set and then evaluate using the complementary subset of the data-set.<br>\n",
    "    <img src=\"https://lh6.googleusercontent.com/sp2oloxXrxErMlLFkU3p0TqWYUh4O-9OjhQxBk8RcbKyYrxfPSSfGqw4KU61Vw_Qq7A=w2400\" alt=\"Computer man\" style=\"width:800px;height:400px;\"/>\n",
    "    </html>"
   ]
  },
  {
   "cell_type": "code",
   "execution_count": 71,
   "metadata": {
    "execution": {
     "iopub.execute_input": "2022-08-16T18:03:59.009283Z",
     "iopub.status.busy": "2022-08-16T18:03:59.008756Z",
     "iopub.status.idle": "2022-08-16T18:03:59.231886Z",
     "shell.execute_reply": "2022-08-16T18:03:59.230801Z",
     "shell.execute_reply.started": "2022-08-16T18:03:59.009231Z"
    }
   },
   "outputs": [],
   "source": [
    "#importing different classification models\n",
    "from sklearn.ensemble import RandomForestClassifier\n",
    "from sklearn.neighbors import KNeighborsClassifier\n",
    "from sklearn.svm import SVC\n",
    "from sklearn.naive_bayes import GaussianNB\n",
    "from sklearn.tree import DecisionTreeClassifier\n",
    "from sklearn.model_selection import cross_val_score\n",
    "from sklearn.metrics import confusion_matrix, accuracy_score,f1_score\n",
    "from sklearn.metrics import classification_report\n",
    "from xgboost import XGBClassifier"
   ]
  },
  {
   "cell_type": "code",
   "execution_count": 72,
   "metadata": {
    "execution": {
     "iopub.execute_input": "2022-08-16T18:03:59.405282Z",
     "iopub.status.busy": "2022-08-16T18:03:59.403407Z",
     "iopub.status.idle": "2022-08-16T18:03:59.413235Z",
     "shell.execute_reply": "2022-08-16T18:03:59.411874Z",
     "shell.execute_reply.started": "2022-08-16T18:03:59.405232Z"
    }
   },
   "outputs": [],
   "source": [
    "#creating dictionary for storing different models accuracy\n",
    "model_comparison={}"
   ]
  },
  {
   "cell_type": "markdown",
   "metadata": {},
   "source": [
    "### Decision Tree <a class=\"anchor\" id=\"sec6.1\"></a>"
   ]
  },
  {
   "cell_type": "code",
   "execution_count": 73,
   "metadata": {
    "execution": {
     "iopub.execute_input": "2022-08-16T18:04:00.122176Z",
     "iopub.status.busy": "2022-08-16T18:04:00.121790Z",
     "iopub.status.idle": "2022-08-16T18:04:00.196629Z",
     "shell.execute_reply": "2022-08-16T18:04:00.195355Z",
     "shell.execute_reply.started": "2022-08-16T18:04:00.122145Z"
    }
   },
   "outputs": [
    {
     "name": "stdout",
     "output_type": "stream",
     "text": [
      "Model Accuracy : 100.00%\n",
      "Model F1-Score : 100.00%\n",
      "Cross Val Accuracy: 92.50 %\n",
      "Cross Val Standard Deviation: 4.86 %\n",
      "              precision    recall  f1-score   support\n",
      "\n",
      "           0       1.00      1.00      1.00        10\n",
      "           1       1.00      1.00      1.00        10\n",
      "           2       1.00      1.00      1.00        10\n",
      "\n",
      "    accuracy                           1.00        30\n",
      "   macro avg       1.00      1.00      1.00        30\n",
      "weighted avg       1.00      1.00      1.00        30\n",
      "\n"
     ]
    }
   ],
   "source": [
    "classifier=DecisionTreeClassifier(criterion = 'entropy', random_state = 0)\n",
    "classifier.fit(X_train,y_train)\n",
    "y_pred=classifier.predict(X_test)\n",
    "print(f\"Model Accuracy : {accuracy_score(y_pred,y_test)*100:.2f}%\")\n",
    "print(f\"Model F1-Score : {f1_score(y_pred,y_test,average='weighted')*100:.2f}%\")\n",
    "accuracies = cross_val_score(estimator = classifier, X = X_train, y = y_train, cv = 5)\n",
    "print(\"Cross Val Accuracy: {:.2f} %\".format(accuracies.mean()*100))\n",
    "print(\"Cross Val Standard Deviation: {:.2f} %\".format(accuracies.std()*100))\n",
    "print(classification_report(y_pred,y_test,zero_division=1))\n",
    "model_comparison['Decision Tree']=[accuracy_score(y_pred,y_test),f1_score(y_pred,y_test,average='weighted'),(accuracies.mean()),(accuracies.std())]"
   ]
  },
  {
   "cell_type": "markdown",
   "metadata": {},
   "source": [
    "### KNN <a class=\"anchor\" id=\"sec6.2\"></a>"
   ]
  },
  {
   "cell_type": "code",
   "execution_count": 74,
   "metadata": {
    "execution": {
     "iopub.execute_input": "2022-08-16T18:04:00.940218Z",
     "iopub.status.busy": "2022-08-16T18:04:00.939423Z",
     "iopub.status.idle": "2022-08-16T18:04:01.007181Z",
     "shell.execute_reply": "2022-08-16T18:04:01.005963Z",
     "shell.execute_reply.started": "2022-08-16T18:04:00.940180Z"
    }
   },
   "outputs": [
    {
     "name": "stdout",
     "output_type": "stream",
     "text": [
      "Model Accuracy : 100.00%\n",
      "Model F1-Score : 100.00%\n",
      "Cross Val Accuracy: 92.50 %\n",
      "Cross Val Standard Deviation: 4.86 %\n",
      "              precision    recall  f1-score   support\n",
      "\n",
      "           0       1.00      1.00      1.00        10\n",
      "           1       1.00      1.00      1.00        10\n",
      "           2       1.00      1.00      1.00        10\n",
      "\n",
      "    accuracy                           1.00        30\n",
      "   macro avg       1.00      1.00      1.00        30\n",
      "weighted avg       1.00      1.00      1.00        30\n",
      "\n"
     ]
    }
   ],
   "source": [
    "classifier=DecisionTreeClassifier(criterion = 'entropy', random_state = 0)\n",
    "classifier.fit(X_train,y_train)\n",
    "y_pred=classifier.predict(X_test)\n",
    "print(f\"Model Accuracy : {accuracy_score(y_pred,y_test)*100:.2f}%\")\n",
    "print(f\"Model F1-Score : {f1_score(y_pred,y_test,average='weighted')*100:.2f}%\")\n",
    "accuracies = cross_val_score(estimator = classifier, X = X_train, y = y_train, cv = 5)\n",
    "print(\"Cross Val Accuracy: {:.2f} %\".format(accuracies.mean()*100))\n",
    "print(\"Cross Val Standard Deviation: {:.2f} %\".format(accuracies.std()*100))\n",
    "print(classification_report(y_pred,y_test,zero_division=1))\n",
    "model_comparison['KNN']=[accuracy_score(y_pred,y_test),f1_score(y_pred,y_test,average='weighted'),(accuracies.mean()),(accuracies.std())]"
   ]
  },
  {
   "cell_type": "markdown",
   "metadata": {},
   "source": [
    "### Naive Bayes <a class=\"anchor\" id=\"sec6.3\"></a>"
   ]
  },
  {
   "cell_type": "code",
   "execution_count": 75,
   "metadata": {
    "execution": {
     "iopub.execute_input": "2022-08-16T18:04:01.760988Z",
     "iopub.status.busy": "2022-08-16T18:04:01.760182Z",
     "iopub.status.idle": "2022-08-16T18:04:01.803807Z",
     "shell.execute_reply": "2022-08-16T18:04:01.802784Z",
     "shell.execute_reply.started": "2022-08-16T18:04:01.760946Z"
    }
   },
   "outputs": [
    {
     "name": "stdout",
     "output_type": "stream",
     "text": [
      "Model Accuracy : 90.00%\n",
      "Model F1-Score : 90.03%\n",
      "Cross Val Accuracy: 92.50 %\n",
      "Cross Val Standard Deviation: 3.12 %\n",
      "              precision    recall  f1-score   support\n",
      "\n",
      "           0       1.00      1.00      1.00        10\n",
      "           1       0.90      0.82      0.86        11\n",
      "           2       0.80      0.89      0.84         9\n",
      "\n",
      "    accuracy                           0.90        30\n",
      "   macro avg       0.90      0.90      0.90        30\n",
      "weighted avg       0.90      0.90      0.90        30\n",
      "\n"
     ]
    }
   ],
   "source": [
    "classifier=GaussianNB()\n",
    "classifier.fit(X_train,y_train)\n",
    "y_pred=classifier.predict(X_test)\n",
    "print(f\"Model Accuracy : {accuracy_score(y_pred,y_test)*100:.2f}%\")\n",
    "print(f\"Model F1-Score : {f1_score(y_pred,y_test,average='weighted')*100:.2f}%\")\n",
    "accuracies = cross_val_score(estimator = classifier, X = X_train, y = y_train, cv = 5)\n",
    "print(\"Cross Val Accuracy: {:.2f} %\".format(accuracies.mean()*100))\n",
    "print(\"Cross Val Standard Deviation: {:.2f} %\".format(accuracies.std()*100))\n",
    "print(classification_report(y_pred,y_test,zero_division=1))\n",
    "model_comparison['Naive Bayes']=[accuracy_score(y_pred,y_test),f1_score(y_pred,y_test,average='weighted'),(accuracies.mean()),(accuracies.std())]"
   ]
  },
  {
   "cell_type": "markdown",
   "metadata": {},
   "source": [
    "### Support Vector Classifier <a class=\"anchor\" id=\"sec6.4\"></a>"
   ]
  },
  {
   "cell_type": "code",
   "execution_count": 76,
   "metadata": {
    "execution": {
     "iopub.execute_input": "2022-08-16T18:04:02.483872Z",
     "iopub.status.busy": "2022-08-16T18:04:02.483434Z",
     "iopub.status.idle": "2022-08-16T18:04:02.826328Z",
     "shell.execute_reply": "2022-08-16T18:04:02.825131Z",
     "shell.execute_reply.started": "2022-08-16T18:04:02.483835Z"
    }
   },
   "outputs": [
    {
     "name": "stdout",
     "output_type": "stream",
     "text": [
      "Model Accuracy : 96.67%\n",
      "Model F1-Score : 96.68%\n",
      "Cross Val Accuracy: 92.50 %\n",
      "Cross Val Standard Deviation: 3.12 %\n",
      "              precision    recall  f1-score   support\n",
      "\n",
      "           0       1.00      1.00      1.00        10\n",
      "           1       1.00      0.91      0.95        11\n",
      "           2       0.90      1.00      0.95         9\n",
      "\n",
      "    accuracy                           0.97        30\n",
      "   macro avg       0.97      0.97      0.97        30\n",
      "weighted avg       0.97      0.97      0.97        30\n",
      "\n"
     ]
    }
   ],
   "source": [
    "classifier=SVC(kernel = 'rbf', random_state = 0)\n",
    "classifier.fit(X_train,y_train)\n",
    "y_pred=classifier.predict(X_test)\n",
    "print(f\"Model Accuracy : {accuracy_score(y_pred,y_test)*100:.2f}%\")\n",
    "print(f\"Model F1-Score : {f1_score(y_pred,y_test,average='weighted')*100:.2f}%\")\n",
    "accuracies = cross_val_score(estimator = classifier, X = X_train, y = y_train, cv = 5)\n",
    "print(\"Cross Val Accuracy: {:.2f} %\".format(accuracies.mean()*100))\n",
    "print(\"Cross Val Standard Deviation: {:.2f} %\".format(accuracies.std()*100))\n",
    "print(classification_report(y_pred,y_test,zero_division=1))\n",
    "model_comparison['Support Vector Classifier']=[accuracy_score(y_pred,y_test),f1_score(y_pred,y_test,average='weighted'),(accuracies.mean()),(accuracies.std())]"
   ]
  },
  {
   "cell_type": "markdown",
   "metadata": {},
   "source": [
    "### Random Forest <a class=\"anchor\" id=\"sec6.5\"></a>"
   ]
  },
  {
   "cell_type": "code",
   "execution_count": 77,
   "metadata": {
    "execution": {
     "iopub.execute_input": "2022-08-16T18:04:03.295496Z",
     "iopub.status.busy": "2022-08-16T18:04:03.295107Z",
     "iopub.status.idle": "2022-08-16T18:04:03.513704Z",
     "shell.execute_reply": "2022-08-16T18:04:03.512556Z",
     "shell.execute_reply.started": "2022-08-16T18:04:03.295466Z"
    }
   },
   "outputs": [
    {
     "name": "stdout",
     "output_type": "stream",
     "text": [
      "Model Accuracy : 100.00%\n",
      "Model F1-Score : 100.00%\n",
      "Cross Val Accuracy: 92.50 %\n",
      "Cross Val Standard Deviation: 3.12 %\n",
      "              precision    recall  f1-score   support\n",
      "\n",
      "           0       1.00      1.00      1.00        10\n",
      "           1       1.00      1.00      1.00        10\n",
      "           2       1.00      1.00      1.00        10\n",
      "\n",
      "    accuracy                           1.00        30\n",
      "   macro avg       1.00      1.00      1.00        30\n",
      "weighted avg       1.00      1.00      1.00        30\n",
      "\n"
     ]
    }
   ],
   "source": [
    "classifier=RandomForestClassifier(n_estimators = 10, criterion = 'entropy', random_state = 0)\n",
    "classifier.fit(X_train,y_train)\n",
    "y_pred=classifier.predict(X_test)\n",
    "print(f\"Model Accuracy : {accuracy_score(y_pred,y_test)*100:.2f}%\")\n",
    "print(f\"Model F1-Score : {f1_score(y_pred,y_test,average='weighted')*100:.2f}%\")\n",
    "accuracies = cross_val_score(estimator = classifier, X = X_train, y = y_train, cv = 5)\n",
    "print(\"Cross Val Accuracy: {:.2f} %\".format(accuracies.mean()*100))\n",
    "print(\"Cross Val Standard Deviation: {:.2f} %\".format(accuracies.std()*100))\n",
    "print(classification_report(y_pred,y_test,zero_division=1))\n",
    "model_comparison['Random Forest']=[accuracy_score(y_pred,y_test),f1_score(y_pred,y_test,average='weighted'),(accuracies.mean()),(accuracies.std())]"
   ]
  },
  {
   "cell_type": "markdown",
   "metadata": {},
   "source": [
    "### Xg Boost <a class=\"anchor\" id=\"sec6.6\"></a>"
   ]
  },
  {
   "cell_type": "code",
   "execution_count": 78,
   "metadata": {
    "execution": {
     "iopub.execute_input": "2022-08-16T18:04:04.114409Z",
     "iopub.status.busy": "2022-08-16T18:04:04.114032Z",
     "iopub.status.idle": "2022-08-16T18:04:08.972246Z",
     "shell.execute_reply": "2022-08-16T18:04:08.971332Z",
     "shell.execute_reply.started": "2022-08-16T18:04:04.114379Z"
    }
   },
   "outputs": [
    {
     "name": "stdout",
     "output_type": "stream",
     "text": [
      "Model Accuracy : 100.00%\n",
      "Model F1-Score : 100.00%\n",
      "Cross Val Accuracy: 91.67 %\n",
      "Cross Val Standard Deviation: 2.64 %\n",
      "              precision    recall  f1-score   support\n",
      "\n",
      "           0       1.00      1.00      1.00        10\n",
      "           1       1.00      1.00      1.00        10\n",
      "           2       1.00      1.00      1.00        10\n",
      "\n",
      "    accuracy                           1.00        30\n",
      "   macro avg       1.00      1.00      1.00        30\n",
      "weighted avg       1.00      1.00      1.00        30\n",
      "\n"
     ]
    }
   ],
   "source": [
    "classifier = XGBClassifier()\n",
    "classifier.fit(X_train,y_train)\n",
    "y_pred=classifier.predict(X_test)\n",
    "print(f\"Model Accuracy : {accuracy_score(y_pred,y_test)*100:.2f}%\")\n",
    "print(f\"Model F1-Score : {f1_score(y_pred,y_test,average='weighted')*100:.2f}%\")\n",
    "accuracies = cross_val_score(estimator = classifier, X = X_train, y = y_train, cv = 5)\n",
    "print(\"Cross Val Accuracy: {:.2f} %\".format(accuracies.mean()*100))\n",
    "print(\"Cross Val Standard Deviation: {:.2f} %\".format(accuracies.std()*100))\n",
    "print(classification_report(y_pred,y_test,zero_division=1))\n",
    "model_comparison['Xg Boost']=[accuracy_score(y_pred,y_test),f1_score(y_pred,y_test,average='weighted'),(accuracies.mean()),(accuracies.std())]"
   ]
  },
  {
   "cell_type": "markdown",
   "metadata": {},
   "source": [
    "### Model Comparison <a class=\"anchor\" id=\"sec7\"></a>"
   ]
  },
  {
   "cell_type": "code",
   "execution_count": 79,
   "metadata": {
    "execution": {
     "iopub.execute_input": "2022-08-16T18:04:08.974758Z",
     "iopub.status.busy": "2022-08-16T18:04:08.974074Z",
     "iopub.status.idle": "2022-08-16T18:04:09.000226Z",
     "shell.execute_reply": "2022-08-16T18:04:08.999099Z",
     "shell.execute_reply.started": "2022-08-16T18:04:08.974722Z"
    }
   },
   "outputs": [
    {
     "data": {
      "text/html": [
       "<style type=\"text/css\">\n",
       "#T_389a4_row0_col0, #T_389a4_row0_col1, #T_389a4_row0_col2, #T_389a4_row0_col3, #T_389a4_row1_col0, #T_389a4_row1_col1, #T_389a4_row1_col2, #T_389a4_row1_col3, #T_389a4_row2_col0, #T_389a4_row2_col1, #T_389a4_row2_col2, #T_389a4_row3_col0, #T_389a4_row3_col1, #T_389a4_row4_col2, #T_389a4_row5_col2 {\n",
       "  background-color: #08306b;\n",
       "  color: #f1f1f1;\n",
       "}\n",
       "#T_389a4_row2_col3, #T_389a4_row4_col3, #T_389a4_row5_col3 {\n",
       "  background-color: #cddff1;\n",
       "  color: #000000;\n",
       "}\n",
       "#T_389a4_row3_col2, #T_389a4_row3_col3, #T_389a4_row5_col0, #T_389a4_row5_col1 {\n",
       "  background-color: #f7fbff;\n",
       "  color: #000000;\n",
       "}\n",
       "#T_389a4_row4_col0, #T_389a4_row4_col1 {\n",
       "  background-color: #3787c0;\n",
       "  color: #f1f1f1;\n",
       "}\n",
       "</style>\n",
       "<table id=\"T_389a4\">\n",
       "  <thead>\n",
       "    <tr>\n",
       "      <th class=\"blank level0\" >&nbsp;</th>\n",
       "      <th id=\"T_389a4_level0_col0\" class=\"col_heading level0 col0\" >Model Accuracy</th>\n",
       "      <th id=\"T_389a4_level0_col1\" class=\"col_heading level0 col1\" >Model F1-Score</th>\n",
       "      <th id=\"T_389a4_level0_col2\" class=\"col_heading level0 col2\" >CV Accuracy</th>\n",
       "      <th id=\"T_389a4_level0_col3\" class=\"col_heading level0 col3\" >CV std</th>\n",
       "    </tr>\n",
       "  </thead>\n",
       "  <tbody>\n",
       "    <tr>\n",
       "      <th id=\"T_389a4_level0_row0\" class=\"row_heading level0 row0\" >Decision Tree</th>\n",
       "      <td id=\"T_389a4_row0_col0\" class=\"data row0 col0\" >100.00%</td>\n",
       "      <td id=\"T_389a4_row0_col1\" class=\"data row0 col1\" >100.00%</td>\n",
       "      <td id=\"T_389a4_row0_col2\" class=\"data row0 col2\" >92.50%</td>\n",
       "      <td id=\"T_389a4_row0_col3\" class=\"data row0 col3\" >4.86%</td>\n",
       "    </tr>\n",
       "    <tr>\n",
       "      <th id=\"T_389a4_level0_row1\" class=\"row_heading level0 row1\" >KNN</th>\n",
       "      <td id=\"T_389a4_row1_col0\" class=\"data row1 col0\" >100.00%</td>\n",
       "      <td id=\"T_389a4_row1_col1\" class=\"data row1 col1\" >100.00%</td>\n",
       "      <td id=\"T_389a4_row1_col2\" class=\"data row1 col2\" >92.50%</td>\n",
       "      <td id=\"T_389a4_row1_col3\" class=\"data row1 col3\" >4.86%</td>\n",
       "    </tr>\n",
       "    <tr>\n",
       "      <th id=\"T_389a4_level0_row2\" class=\"row_heading level0 row2\" >Random Forest</th>\n",
       "      <td id=\"T_389a4_row2_col0\" class=\"data row2 col0\" >100.00%</td>\n",
       "      <td id=\"T_389a4_row2_col1\" class=\"data row2 col1\" >100.00%</td>\n",
       "      <td id=\"T_389a4_row2_col2\" class=\"data row2 col2\" >92.50%</td>\n",
       "      <td id=\"T_389a4_row2_col3\" class=\"data row2 col3\" >3.12%</td>\n",
       "    </tr>\n",
       "    <tr>\n",
       "      <th id=\"T_389a4_level0_row3\" class=\"row_heading level0 row3\" >Xg Boost</th>\n",
       "      <td id=\"T_389a4_row3_col0\" class=\"data row3 col0\" >100.00%</td>\n",
       "      <td id=\"T_389a4_row3_col1\" class=\"data row3 col1\" >100.00%</td>\n",
       "      <td id=\"T_389a4_row3_col2\" class=\"data row3 col2\" >91.67%</td>\n",
       "      <td id=\"T_389a4_row3_col3\" class=\"data row3 col3\" >2.64%</td>\n",
       "    </tr>\n",
       "    <tr>\n",
       "      <th id=\"T_389a4_level0_row4\" class=\"row_heading level0 row4\" >Support Vector Classifier</th>\n",
       "      <td id=\"T_389a4_row4_col0\" class=\"data row4 col0\" >96.67%</td>\n",
       "      <td id=\"T_389a4_row4_col1\" class=\"data row4 col1\" >96.68%</td>\n",
       "      <td id=\"T_389a4_row4_col2\" class=\"data row4 col2\" >92.50%</td>\n",
       "      <td id=\"T_389a4_row4_col3\" class=\"data row4 col3\" >3.12%</td>\n",
       "    </tr>\n",
       "    <tr>\n",
       "      <th id=\"T_389a4_level0_row5\" class=\"row_heading level0 row5\" >Naive Bayes</th>\n",
       "      <td id=\"T_389a4_row5_col0\" class=\"data row5 col0\" >90.00%</td>\n",
       "      <td id=\"T_389a4_row5_col1\" class=\"data row5 col1\" >90.03%</td>\n",
       "      <td id=\"T_389a4_row5_col2\" class=\"data row5 col2\" >92.50%</td>\n",
       "      <td id=\"T_389a4_row5_col3\" class=\"data row5 col3\" >3.12%</td>\n",
       "    </tr>\n",
       "  </tbody>\n",
       "</table>\n"
      ],
      "text/plain": [
       "<pandas.io.formats.style.Styler at 0x14bde041790>"
      ]
     },
     "execution_count": 79,
     "metadata": {},
     "output_type": "execute_result"
    }
   ],
   "source": [
    "Model_com_df=pd.DataFrame(model_comparison).T\n",
    "Model_com_df.columns=['Model Accuracy','Model F1-Score','CV Accuracy','CV std']\n",
    "Model_com_df=Model_com_df.sort_values(by='Model F1-Score',ascending=False)\n",
    "Model_com_df.style.format(\"{:.2%}\").background_gradient(cmap='Blues')"
   ]
  },
  {
   "cell_type": "markdown",
   "metadata": {},
   "source": [
    "#### Maximum Accuracies in each Column <a class=\"anchor\" id=\"sec7.1\"></a>"
   ]
  },
  {
   "cell_type": "code",
   "execution_count": 80,
   "metadata": {
    "execution": {
     "iopub.execute_input": "2022-08-16T18:04:11.343276Z",
     "iopub.status.busy": "2022-08-16T18:04:11.342354Z",
     "iopub.status.idle": "2022-08-16T18:04:11.358943Z",
     "shell.execute_reply": "2022-08-16T18:04:11.357732Z",
     "shell.execute_reply.started": "2022-08-16T18:04:11.343240Z"
    }
   },
   "outputs": [
    {
     "data": {
      "text/html": [
       "<style type=\"text/css\">\n",
       "#T_f1022_row0_col0, #T_f1022_row0_col1, #T_f1022_row0_col2, #T_f1022_row0_col3, #T_f1022_row1_col0, #T_f1022_row1_col1, #T_f1022_row1_col2, #T_f1022_row1_col3, #T_f1022_row2_col0, #T_f1022_row2_col1, #T_f1022_row2_col2, #T_f1022_row3_col0, #T_f1022_row3_col1, #T_f1022_row4_col2, #T_f1022_row5_col2 {\n",
       "  background-color: yellow;\n",
       "}\n",
       "</style>\n",
       "<table id=\"T_f1022\">\n",
       "  <caption>Maximum Score in each Column</caption>\n",
       "  <thead>\n",
       "    <tr>\n",
       "      <th class=\"blank level0\" >&nbsp;</th>\n",
       "      <th id=\"T_f1022_level0_col0\" class=\"col_heading level0 col0\" >Model Accuracy</th>\n",
       "      <th id=\"T_f1022_level0_col1\" class=\"col_heading level0 col1\" >Model F1-Score</th>\n",
       "      <th id=\"T_f1022_level0_col2\" class=\"col_heading level0 col2\" >CV Accuracy</th>\n",
       "      <th id=\"T_f1022_level0_col3\" class=\"col_heading level0 col3\" >CV std</th>\n",
       "    </tr>\n",
       "  </thead>\n",
       "  <tbody>\n",
       "    <tr>\n",
       "      <th id=\"T_f1022_level0_row0\" class=\"row_heading level0 row0\" >Decision Tree</th>\n",
       "      <td id=\"T_f1022_row0_col0\" class=\"data row0 col0\" >100.00%</td>\n",
       "      <td id=\"T_f1022_row0_col1\" class=\"data row0 col1\" >100.00%</td>\n",
       "      <td id=\"T_f1022_row0_col2\" class=\"data row0 col2\" >92.50%</td>\n",
       "      <td id=\"T_f1022_row0_col3\" class=\"data row0 col3\" >4.86%</td>\n",
       "    </tr>\n",
       "    <tr>\n",
       "      <th id=\"T_f1022_level0_row1\" class=\"row_heading level0 row1\" >KNN</th>\n",
       "      <td id=\"T_f1022_row1_col0\" class=\"data row1 col0\" >100.00%</td>\n",
       "      <td id=\"T_f1022_row1_col1\" class=\"data row1 col1\" >100.00%</td>\n",
       "      <td id=\"T_f1022_row1_col2\" class=\"data row1 col2\" >92.50%</td>\n",
       "      <td id=\"T_f1022_row1_col3\" class=\"data row1 col3\" >4.86%</td>\n",
       "    </tr>\n",
       "    <tr>\n",
       "      <th id=\"T_f1022_level0_row2\" class=\"row_heading level0 row2\" >Random Forest</th>\n",
       "      <td id=\"T_f1022_row2_col0\" class=\"data row2 col0\" >100.00%</td>\n",
       "      <td id=\"T_f1022_row2_col1\" class=\"data row2 col1\" >100.00%</td>\n",
       "      <td id=\"T_f1022_row2_col2\" class=\"data row2 col2\" >92.50%</td>\n",
       "      <td id=\"T_f1022_row2_col3\" class=\"data row2 col3\" >3.12%</td>\n",
       "    </tr>\n",
       "    <tr>\n",
       "      <th id=\"T_f1022_level0_row3\" class=\"row_heading level0 row3\" >Xg Boost</th>\n",
       "      <td id=\"T_f1022_row3_col0\" class=\"data row3 col0\" >100.00%</td>\n",
       "      <td id=\"T_f1022_row3_col1\" class=\"data row3 col1\" >100.00%</td>\n",
       "      <td id=\"T_f1022_row3_col2\" class=\"data row3 col2\" >91.67%</td>\n",
       "      <td id=\"T_f1022_row3_col3\" class=\"data row3 col3\" >2.64%</td>\n",
       "    </tr>\n",
       "    <tr>\n",
       "      <th id=\"T_f1022_level0_row4\" class=\"row_heading level0 row4\" >Support Vector Classifier</th>\n",
       "      <td id=\"T_f1022_row4_col0\" class=\"data row4 col0\" >96.67%</td>\n",
       "      <td id=\"T_f1022_row4_col1\" class=\"data row4 col1\" >96.68%</td>\n",
       "      <td id=\"T_f1022_row4_col2\" class=\"data row4 col2\" >92.50%</td>\n",
       "      <td id=\"T_f1022_row4_col3\" class=\"data row4 col3\" >3.12%</td>\n",
       "    </tr>\n",
       "    <tr>\n",
       "      <th id=\"T_f1022_level0_row5\" class=\"row_heading level0 row5\" >Naive Bayes</th>\n",
       "      <td id=\"T_f1022_row5_col0\" class=\"data row5 col0\" >90.00%</td>\n",
       "      <td id=\"T_f1022_row5_col1\" class=\"data row5 col1\" >90.03%</td>\n",
       "      <td id=\"T_f1022_row5_col2\" class=\"data row5 col2\" >92.50%</td>\n",
       "      <td id=\"T_f1022_row5_col3\" class=\"data row5 col3\" >3.12%</td>\n",
       "    </tr>\n",
       "  </tbody>\n",
       "</table>\n"
      ],
      "text/plain": [
       "<pandas.io.formats.style.Styler at 0x14bde0a0d00>"
      ]
     },
     "execution_count": 80,
     "metadata": {},
     "output_type": "execute_result"
    }
   ],
   "source": [
    "Model_com_df.style.highlight_max().set_caption(\"Maximum Score in each Column\").format(\"{:.2%}\")"
   ]
  },
  {
   "cell_type": "markdown",
   "metadata": {},
   "source": [
    "#### Minimum Accuracies in each Column <a class=\"anchor\" id=\"sec7.2\"></a>"
   ]
  },
  {
   "cell_type": "code",
   "execution_count": 81,
   "metadata": {
    "execution": {
     "iopub.execute_input": "2022-08-16T18:04:12.366472Z",
     "iopub.status.busy": "2022-08-16T18:04:12.366056Z",
     "iopub.status.idle": "2022-08-16T18:04:12.382172Z",
     "shell.execute_reply": "2022-08-16T18:04:12.381240Z",
     "shell.execute_reply.started": "2022-08-16T18:04:12.366439Z"
    }
   },
   "outputs": [
    {
     "data": {
      "text/html": [
       "<style type=\"text/css\">\n",
       "#T_e0df7_row3_col2, #T_e0df7_row3_col3, #T_e0df7_row5_col0, #T_e0df7_row5_col1 {\n",
       "  background-color: yellow;\n",
       "}\n",
       "</style>\n",
       "<table id=\"T_e0df7\">\n",
       "  <caption>Minimum Score in each Column</caption>\n",
       "  <thead>\n",
       "    <tr>\n",
       "      <th class=\"blank level0\" >&nbsp;</th>\n",
       "      <th id=\"T_e0df7_level0_col0\" class=\"col_heading level0 col0\" >Model Accuracy</th>\n",
       "      <th id=\"T_e0df7_level0_col1\" class=\"col_heading level0 col1\" >Model F1-Score</th>\n",
       "      <th id=\"T_e0df7_level0_col2\" class=\"col_heading level0 col2\" >CV Accuracy</th>\n",
       "      <th id=\"T_e0df7_level0_col3\" class=\"col_heading level0 col3\" >CV std</th>\n",
       "    </tr>\n",
       "  </thead>\n",
       "  <tbody>\n",
       "    <tr>\n",
       "      <th id=\"T_e0df7_level0_row0\" class=\"row_heading level0 row0\" >Decision Tree</th>\n",
       "      <td id=\"T_e0df7_row0_col0\" class=\"data row0 col0\" >100.00%</td>\n",
       "      <td id=\"T_e0df7_row0_col1\" class=\"data row0 col1\" >100.00%</td>\n",
       "      <td id=\"T_e0df7_row0_col2\" class=\"data row0 col2\" >92.50%</td>\n",
       "      <td id=\"T_e0df7_row0_col3\" class=\"data row0 col3\" >4.86%</td>\n",
       "    </tr>\n",
       "    <tr>\n",
       "      <th id=\"T_e0df7_level0_row1\" class=\"row_heading level0 row1\" >KNN</th>\n",
       "      <td id=\"T_e0df7_row1_col0\" class=\"data row1 col0\" >100.00%</td>\n",
       "      <td id=\"T_e0df7_row1_col1\" class=\"data row1 col1\" >100.00%</td>\n",
       "      <td id=\"T_e0df7_row1_col2\" class=\"data row1 col2\" >92.50%</td>\n",
       "      <td id=\"T_e0df7_row1_col3\" class=\"data row1 col3\" >4.86%</td>\n",
       "    </tr>\n",
       "    <tr>\n",
       "      <th id=\"T_e0df7_level0_row2\" class=\"row_heading level0 row2\" >Random Forest</th>\n",
       "      <td id=\"T_e0df7_row2_col0\" class=\"data row2 col0\" >100.00%</td>\n",
       "      <td id=\"T_e0df7_row2_col1\" class=\"data row2 col1\" >100.00%</td>\n",
       "      <td id=\"T_e0df7_row2_col2\" class=\"data row2 col2\" >92.50%</td>\n",
       "      <td id=\"T_e0df7_row2_col3\" class=\"data row2 col3\" >3.12%</td>\n",
       "    </tr>\n",
       "    <tr>\n",
       "      <th id=\"T_e0df7_level0_row3\" class=\"row_heading level0 row3\" >Xg Boost</th>\n",
       "      <td id=\"T_e0df7_row3_col0\" class=\"data row3 col0\" >100.00%</td>\n",
       "      <td id=\"T_e0df7_row3_col1\" class=\"data row3 col1\" >100.00%</td>\n",
       "      <td id=\"T_e0df7_row3_col2\" class=\"data row3 col2\" >91.67%</td>\n",
       "      <td id=\"T_e0df7_row3_col3\" class=\"data row3 col3\" >2.64%</td>\n",
       "    </tr>\n",
       "    <tr>\n",
       "      <th id=\"T_e0df7_level0_row4\" class=\"row_heading level0 row4\" >Support Vector Classifier</th>\n",
       "      <td id=\"T_e0df7_row4_col0\" class=\"data row4 col0\" >96.67%</td>\n",
       "      <td id=\"T_e0df7_row4_col1\" class=\"data row4 col1\" >96.68%</td>\n",
       "      <td id=\"T_e0df7_row4_col2\" class=\"data row4 col2\" >92.50%</td>\n",
       "      <td id=\"T_e0df7_row4_col3\" class=\"data row4 col3\" >3.12%</td>\n",
       "    </tr>\n",
       "    <tr>\n",
       "      <th id=\"T_e0df7_level0_row5\" class=\"row_heading level0 row5\" >Naive Bayes</th>\n",
       "      <td id=\"T_e0df7_row5_col0\" class=\"data row5 col0\" >90.00%</td>\n",
       "      <td id=\"T_e0df7_row5_col1\" class=\"data row5 col1\" >90.03%</td>\n",
       "      <td id=\"T_e0df7_row5_col2\" class=\"data row5 col2\" >92.50%</td>\n",
       "      <td id=\"T_e0df7_row5_col3\" class=\"data row5 col3\" >3.12%</td>\n",
       "    </tr>\n",
       "  </tbody>\n",
       "</table>\n"
      ],
      "text/plain": [
       "<pandas.io.formats.style.Styler at 0x14bde0a0700>"
      ]
     },
     "execution_count": 81,
     "metadata": {},
     "output_type": "execute_result"
    }
   ],
   "source": [
    "Model_com_df.style.highlight_min().set_caption(\"Minimum Score in each Column\").format(\"{:.2%}\")"
   ]
  },
  {
   "cell_type": "code",
   "execution_count": null,
   "metadata": {},
   "outputs": [],
   "source": []
  }
 ],
 "metadata": {
  "kernelspec": {
   "display_name": "Python 3 (ipykernel)",
   "language": "python",
   "name": "python3"
  },
  "language_info": {
   "codemirror_mode": {
    "name": "ipython",
    "version": 3
   },
   "file_extension": ".py",
   "mimetype": "text/x-python",
   "name": "python",
   "nbconvert_exporter": "python",
   "pygments_lexer": "ipython3",
   "version": "3.9.12"
  }
 },
 "nbformat": 4,
 "nbformat_minor": 4
}
